{
 "cells": [
  {
   "cell_type": "code",
   "execution_count": 1,
   "metadata": {},
   "outputs": [],
   "source": [
    "using CSV, DataFrames, Query, VegaLite"
   ]
  },
  {
   "cell_type": "code",
   "execution_count": 2,
   "metadata": {},
   "outputs": [
    {
     "data": {
      "text/html": [
       "<table class=\"data-frame\"><thead><tr><th></th><th>state</th><th>0to18</th><th>19to25</th><th>26to34</th><th>35to54</th><th>55to64</th><th>65plus</th><th>total</th></tr><tr><th></th><th>String</th><th>Float64</th><th>Float64</th><th>Float64</th><th>Float64</th><th>Float64</th><th>Float64</th><th>Int64</th></tr></thead><tbody><p>2 rows × 8 columns</p><tr><th>1</th><td>Alabama</td><td>0.24</td><td>0.09</td><td>0.12</td><td>0.25</td><td>0.14</td><td>0.17</td><td>4752600</td></tr><tr><th>2</th><td>Alaska</td><td>0.27</td><td>0.09</td><td>0.13</td><td>0.26</td><td>0.13</td><td>0.12</td><td>709100</td></tr></tbody></table>"
      ],
      "text/latex": [
       "\\begin{tabular}{r|cccccccc}\n",
       "\t& state & 0to18 & 19to25 & 26to34 & 35to54 & 55to64 & 65plus & total\\\\\n",
       "\t\\hline\n",
       "\t& String & Float64 & Float64 & Float64 & Float64 & Float64 & Float64 & Int64\\\\\n",
       "\t\\hline\n",
       "\t1 & Alabama & 0.24 & 0.09 & 0.12 & 0.25 & 0.14 & 0.17 & 4752600 \\\\\n",
       "\t2 & Alaska & 0.27 & 0.09 & 0.13 & 0.26 & 0.13 & 0.12 & 709100 \\\\\n",
       "\\end{tabular}\n"
      ],
      "text/plain": [
       "2×8 DataFrame. Omitted printing of 1 columns\n",
       "│ Row │ state   │ 0to18   │ 19to25  │ 26to34  │ 35to54  │ 55to64  │ 65plus  │\n",
       "│     │ \u001b[90mString\u001b[39m  │ \u001b[90mFloat64\u001b[39m │ \u001b[90mFloat64\u001b[39m │ \u001b[90mFloat64\u001b[39m │ \u001b[90mFloat64\u001b[39m │ \u001b[90mFloat64\u001b[39m │ \u001b[90mFloat64\u001b[39m │\n",
       "├─────┼─────────┼─────────┼─────────┼─────────┼─────────┼─────────┼─────────┤\n",
       "│ 1   │ Alabama │ 0.24    │ 0.09    │ 0.12    │ 0.25    │ 0.14    │ 0.17    │\n",
       "│ 2   │ Alaska  │ 0.27    │ 0.09    │ 0.13    │ 0.26    │ 0.13    │ 0.12    │"
      ]
     },
     "execution_count": 2,
     "metadata": {},
     "output_type": "execute_result"
    }
   ],
   "source": [
    "df_census = CSV.File(\"US_state_ages.csv\") |> DataFrame\n",
    "first(df_census, 2)"
   ]
  },
  {
   "cell_type": "code",
   "execution_count": 9,
   "metadata": {
    "scrolled": true
   },
   "outputs": [
    {
     "name": "stderr",
     "output_type": "stream",
     "text": [
      "WARN Missing type for channel \"color\", using \"nominal\" instead.\n",
      "WARN Missing type for channel \"color\", using \"nominal\" instead.\n"
     ]
    },
    {
     "data": {
      "application/vnd.vegalite.v4+json": {
       "data": {
        "values": [
         {
          "age_group": "0to18",
          "fraction": 0.24,
          "state": "Alabama",
          "total": 4752600
         },
         {
          "age_group": "19to25",
          "fraction": 0.09,
          "state": "Alabama",
          "total": 4752600
         },
         {
          "age_group": "26to34",
          "fraction": 0.12,
          "state": "Alabama",
          "total": 4752600
         },
         {
          "age_group": "35to54",
          "fraction": 0.25,
          "state": "Alabama",
          "total": 4752600
         },
         {
          "age_group": "55to64",
          "fraction": 0.14,
          "state": "Alabama",
          "total": 4752600
         },
         {
          "age_group": "65plus",
          "fraction": 0.17,
          "state": "Alabama",
          "total": 4752600
         },
         {
          "age_group": "0to18",
          "fraction": 0.27,
          "state": "Alaska",
          "total": 709100
         },
         {
          "age_group": "19to25",
          "fraction": 0.09,
          "state": "Alaska",
          "total": 709100
         },
         {
          "age_group": "26to34",
          "fraction": 0.13,
          "state": "Alaska",
          "total": 709100
         },
         {
          "age_group": "35to54",
          "fraction": 0.26,
          "state": "Alaska",
          "total": 709100
         },
         {
          "age_group": "55to64",
          "fraction": 0.13,
          "state": "Alaska",
          "total": 709100
         },
         {
          "age_group": "65plus",
          "fraction": 0.12,
          "state": "Alaska",
          "total": 709100
         },
         {
          "age_group": "0to18",
          "fraction": 0.24,
          "state": "Arizona",
          "total": 7004300
         },
         {
          "age_group": "19to25",
          "fraction": 0.09,
          "state": "Arizona",
          "total": 7004300
         },
         {
          "age_group": "26to34",
          "fraction": 0.12,
          "state": "Arizona",
          "total": 7004300
         },
         {
          "age_group": "35to54",
          "fraction": 0.24,
          "state": "Arizona",
          "total": 7004300
         },
         {
          "age_group": "55to64",
          "fraction": 0.12,
          "state": "Arizona",
          "total": 7004300
         },
         {
          "age_group": "65plus",
          "fraction": 0.18,
          "state": "Arizona",
          "total": 7004300
         },
         {
          "age_group": "0to18",
          "fraction": 0.25,
          "state": "Arkansas",
          "total": 2921300
         },
         {
          "age_group": "19to25",
          "fraction": 0.09,
          "state": "Arkansas",
          "total": 2921300
         },
         {
          "age_group": "26to34",
          "fraction": 0.12,
          "state": "Arkansas",
          "total": 2921300
         },
         {
          "age_group": "35to54",
          "fraction": 0.25,
          "state": "Arkansas",
          "total": 2921300
         },
         {
          "age_group": "55to64",
          "fraction": 0.13,
          "state": "Arkansas",
          "total": 2921300
         },
         {
          "age_group": "65plus",
          "fraction": 0.17,
          "state": "Arkansas",
          "total": 2921300
         },
         {
          "age_group": "0to18",
          "fraction": 0.24,
          "state": "California",
          "total": 38745900
         },
         {
          "age_group": "19to25",
          "fraction": 0.09,
          "state": "California",
          "total": 38745900
         },
         {
          "age_group": "26to34",
          "fraction": 0.14,
          "state": "California",
          "total": 38745900
         },
         {
          "age_group": "35to54",
          "fraction": 0.26,
          "state": "California",
          "total": 38745900
         },
         {
          "age_group": "55to64",
          "fraction": 0.12,
          "state": "California",
          "total": 38745900
         },
         {
          "age_group": "65plus",
          "fraction": 0.14,
          "state": "California",
          "total": 38745900
         },
         {
          "age_group": "0to18",
          "fraction": 0.24,
          "state": "Colorado",
          "total": 5555200
         },
         {
          "age_group": "19to25",
          "fraction": 0.09,
          "state": "Colorado",
          "total": 5555200
         },
         {
          "age_group": "26to34",
          "fraction": 0.14,
          "state": "Colorado",
          "total": 5555200
         },
         {
          "age_group": "35to54",
          "fraction": 0.26,
          "state": "Colorado",
          "total": 5555200
         },
         {
          "age_group": "55to64",
          "fraction": 0.13,
          "state": "Colorado",
          "total": 5555200
         },
         {
          "age_group": "65plus",
          "fraction": 0.14,
          "state": "Colorado",
          "total": 5555200
         },
         {
          "age_group": "0to18",
          "fraction": 0.22,
          "state": "Connecticut",
          "total": 3466300
         },
         {
          "age_group": "19to25",
          "fraction": 0.08,
          "state": "Connecticut",
          "total": 3466300
         },
         {
          "age_group": "26to34",
          "fraction": 0.11,
          "state": "Connecticut",
          "total": 3466300
         },
         {
          "age_group": "35to54",
          "fraction": 0.27,
          "state": "Connecticut",
          "total": 3466300
         },
         {
          "age_group": "55to64",
          "fraction": 0.15,
          "state": "Connecticut",
          "total": 3466300
         },
         {
          "age_group": "65plus",
          "fraction": 0.17,
          "state": "Connecticut",
          "total": 3466300
         },
         {
          "age_group": "0to18",
          "fraction": 0.22,
          "state": "Delaware",
          "total": 937700
         },
         {
          "age_group": "19to25",
          "fraction": 0.08,
          "state": "Delaware",
          "total": 937700
         },
         {
          "age_group": "26to34",
          "fraction": 0.12,
          "state": "Delaware",
          "total": 937700
         },
         {
          "age_group": "35to54",
          "fraction": 0.25,
          "state": "Delaware",
          "total": 937700
         },
         {
          "age_group": "55to64",
          "fraction": 0.14,
          "state": "Delaware",
          "total": 937700
         },
         {
          "age_group": "65plus",
          "fraction": 0.19,
          "state": "Delaware",
          "total": 937700
         },
         {
          "age_group": "0to18",
          "fraction": 0.2,
          "state": "DistrictofColumbia",
          "total": 667900
         },
         {
          "age_group": "19to25",
          "fraction": 0.1,
          "state": "DistrictofColumbia",
          "total": 667900
         },
         {
          "age_group": "26to34",
          "fraction": 0.21,
          "state": "DistrictofColumbia",
          "total": 667900
         },
         {
          "age_group": "35to54",
          "fraction": 0.27,
          "state": "DistrictofColumbia",
          "total": 667900
         },
         {
          "age_group": "55to64",
          "fraction": 0.1,
          "state": "DistrictofColumbia",
          "total": 667900
         },
         {
          "age_group": "65plus",
          "fraction": 0.12,
          "state": "DistrictofColumbia",
          "total": 667900
         },
         {
          "age_group": "0to18",
          "fraction": 0.21,
          "state": "Florida",
          "total": 20843500
         },
         {
          "age_group": "19to25",
          "fraction": 0.08,
          "state": "Florida",
          "total": 20843500
         },
         {
          "age_group": "26to34",
          "fraction": 0.12,
          "state": "Florida",
          "total": 20843500
         },
         {
          "age_group": "35to54",
          "fraction": 0.25,
          "state": "Florida",
          "total": 20843500
         },
         {
          "age_group": "55to64",
          "fraction": 0.14,
          "state": "Florida",
          "total": 20843500
         },
         {
          "age_group": "65plus",
          "fraction": 0.21,
          "state": "Florida",
          "total": 20843500
         },
         {
          "age_group": "0to18",
          "fraction": 0.26,
          "state": "Georgia",
          "total": 10212800
         },
         {
          "age_group": "19to25",
          "fraction": 0.09,
          "state": "Georgia",
          "total": 10212800
         },
         {
          "age_group": "26to34",
          "fraction": 0.12,
          "state": "Georgia",
          "total": 10212800
         },
         {
          "age_group": "35to54",
          "fraction": 0.27,
          "state": "Georgia",
          "total": 10212800
         },
         {
          "age_group": "55to64",
          "fraction": 0.12,
          "state": "Georgia",
          "total": 10212800
         },
         {
          "age_group": "65plus",
          "fraction": 0.14,
          "state": "Georgia",
          "total": 10212800
         },
         {
          "age_group": "0to18",
          "fraction": 0.23,
          "state": "Hawaii",
          "total": 1354800
         },
         {
          "age_group": "19to25",
          "fraction": 0.07,
          "state": "Hawaii",
          "total": 1354800
         },
         {
          "age_group": "26to34",
          "fraction": 0.12,
          "state": "Hawaii",
          "total": 1354800
         },
         {
          "age_group": "35to54",
          "fraction": 0.25,
          "state": "Hawaii",
          "total": 1354800
         },
         {
          "age_group": "55to64",
          "fraction": 0.13,
          "state": "Hawaii",
          "total": 1354800
         },
         {
          "age_group": "65plus",
          "fraction": 0.19,
          "state": "Hawaii",
          "total": 1354800
         },
         {
          "age_group": "0to18",
          "fraction": 0.27,
          "state": "Idaho",
          "total": 1719600
         },
         {
          "age_group": "19to25",
          "fraction": 0.09,
          "state": "Idaho",
          "total": 1719600
         },
         {
          "age_group": "26to34",
          "fraction": 0.12,
          "state": "Idaho",
          "total": 1719600
         },
         {
          "age_group": "35to54",
          "fraction": 0.24,
          "state": "Idaho",
          "total": 1719600
         },
         {
          "age_group": "55to64",
          "fraction": 0.12,
          "state": "Idaho",
          "total": 1719600
         },
         {
          "age_group": "65plus",
          "fraction": 0.16,
          "state": "Idaho",
          "total": 1719600
         },
         {
          "age_group": "0to18",
          "fraction": 0.24,
          "state": "Illinois",
          "total": 12438400
         },
         {
          "age_group": "19to25",
          "fraction": 0.09,
          "state": "Illinois",
          "total": 12438400
         },
         {
          "age_group": "26to34",
          "fraction": 0.12,
          "state": "Illinois",
          "total": 12438400
         },
         {
          "age_group": "35to54",
          "fraction": 0.26,
          "state": "Illinois",
          "total": 12438400
         },
         {
          "age_group": "55to64",
          "fraction": 0.13,
          "state": "Illinois",
          "total": 12438400
         },
         {
          "age_group": "65plus",
          "fraction": 0.15,
          "state": "Illinois",
          "total": 12438400
         },
         {
          "age_group": "0to18",
          "fraction": 0.25,
          "state": "Indiana",
          "total": 6487100
         },
         {
          "age_group": "19to25",
          "fraction": 0.09,
          "state": "Indiana",
          "total": 6487100
         },
         {
          "age_group": "26to34",
          "fraction": 0.12,
          "state": "Indiana",
          "total": 6487100
         },
         {
          "age_group": "35to54",
          "fraction": 0.25,
          "state": "Indiana",
          "total": 6487100
         },
         {
          "age_group": "55to64",
          "fraction": 0.13,
          "state": "Indiana",
          "total": 6487100
         },
         {
          "age_group": "65plus",
          "fraction": 0.16,
          "state": "Indiana",
          "total": 6487100
         },
         {
          "age_group": "0to18",
          "fraction": 0.25,
          "state": "Iowa",
          "total": 3056800
         },
         {
          "age_group": "19to25",
          "fraction": 0.09,
          "state": "Iowa",
          "total": 3056800
         },
         {
          "age_group": "26to34",
          "fraction": 0.12,
          "state": "Iowa",
          "total": 3056800
         },
         {
          "age_group": "35to54",
          "fraction": 0.24,
          "state": "Iowa",
          "total": 3056800
         },
         {
          "age_group": "55to64",
          "fraction": 0.13,
          "state": "Iowa",
          "total": 3056800
         },
         {
          "age_group": "65plus",
          "fraction": 0.17,
          "state": "Iowa",
          "total": 3056800
         },
         {
          "age_group": "0to18",
          "fraction": 0.26,
          "state": "Kansas",
          "total": 2814700
         },
         {
          "age_group": "19to25",
          "fraction": 0.09,
          "state": "Kansas",
          "total": 2814700
         },
         {
          "age_group": "26to34",
          "fraction": 0.12,
          "state": "Kansas",
          "total": 2814700
         },
         {
          "age_group": "35to54",
          "fraction": 0.24,
          "state": "Kansas",
          "total": 2814700
         },
         {
          "age_group": "55to64",
          "fraction": 0.13,
          "state": "Kansas",
          "total": 2814700
         },
         {
          "age_group": "65plus",
          "fraction": 0.16,
          "state": "Kansas",
          "total": 2814700
         },
         {
          "age_group": "0to18",
          "fraction": 0.24,
          "state": "Kentucky",
          "total": 4320300
         },
         {
          "age_group": "19to25",
          "fraction": 0.09,
          "state": "Kentucky",
          "total": 4320300
         },
         {
          "age_group": "26to34",
          "fraction": 0.12,
          "state": "Kentucky",
          "total": 4320300
         },
         {
          "age_group": "35to54",
          "fraction": 0.26,
          "state": "Kentucky",
          "total": 4320300
         },
         {
          "age_group": "55to64",
          "fraction": 0.14,
          "state": "Kentucky",
          "total": 4320300
         },
         {
          "age_group": "65plus",
          "fraction": 0.16,
          "state": "Kentucky",
          "total": 4320300
         },
         {
          "age_group": "0to18",
          "fraction": 0.25,
          "state": "Louisiana",
          "total": 4519300
         },
         {
          "age_group": "19to25",
          "fraction": 0.09,
          "state": "Louisiana",
          "total": 4519300
         },
         {
          "age_group": "26to34",
          "fraction": 0.12,
          "state": "Louisiana",
          "total": 4519300
         },
         {
          "age_group": "35to54",
          "fraction": 0.25,
          "state": "Louisiana",
          "total": 4519300
         },
         {
          "age_group": "55to64",
          "fraction": 0.13,
          "state": "Louisiana",
          "total": 4519300
         },
         {
          "age_group": "65plus",
          "fraction": 0.15,
          "state": "Louisiana",
          "total": 4519300
         },
         {
          "age_group": "0to18",
          "fraction": 0.19,
          "state": "Maine",
          "total": 1299500
         },
         {
          "age_group": "19to25",
          "fraction": 0.07,
          "state": "Maine",
          "total": 1299500
         },
         {
          "age_group": "26to34",
          "fraction": 0.11,
          "state": "Maine",
          "total": 1299500
         },
         {
          "age_group": "35to54",
          "fraction": 0.26,
          "state": "Maine",
          "total": 1299500
         },
         {
          "age_group": "55to64",
          "fraction": 0.16,
          "state": "Maine",
          "total": 1299500
         },
         {
          "age_group": "65plus",
          "fraction": 0.21,
          "state": "Maine",
          "total": 1299500
         },
         {
          "age_group": "0to18",
          "fraction": 0.23,
          "state": "Maryland",
          "total": 5870800
         },
         {
          "age_group": "19to25",
          "fraction": 0.08,
          "state": "Maryland",
          "total": 5870800
         },
         {
          "age_group": "26to34",
          "fraction": 0.12,
          "state": "Maryland",
          "total": 5870800
         },
         {
          "age_group": "35to54",
          "fraction": 0.27,
          "state": "Maryland",
          "total": 5870800
         },
         {
          "age_group": "55to64",
          "fraction": 0.14,
          "state": "Maryland",
          "total": 5870800
         },
         {
          "age_group": "65plus",
          "fraction": 0.15,
          "state": "Maryland",
          "total": 5870800
         },
         {
          "age_group": "0to18",
          "fraction": 0.21,
          "state": "Massachusetts",
          "total": 6659900
         },
         {
          "age_group": "19to25",
          "fraction": 0.09,
          "state": "Massachusetts",
          "total": 6659900
         },
         {
          "age_group": "26to34",
          "fraction": 0.13,
          "state": "Massachusetts",
          "total": 6659900
         },
         {
          "age_group": "35to54",
          "fraction": 0.26,
          "state": "Massachusetts",
          "total": 6659900
         },
         {
          "age_group": "55to64",
          "fraction": 0.14,
          "state": "Massachusetts",
          "total": 6659900
         },
         {
          "age_group": "65plus",
          "fraction": 0.17,
          "state": "Massachusetts",
          "total": 6659900
         },
         {
          "age_group": "0to18",
          "fraction": 0.23,
          "state": "Michigan",
          "total": 9770000
         },
         {
          "age_group": "19to25",
          "fraction": 0.09,
          "state": "Michigan",
          "total": 9770000
         },
         {
          "age_group": "26to34",
          "fraction": 0.12,
          "state": "Michigan",
          "total": 9770000
         },
         {
          "age_group": "35to54",
          "fraction": 0.25,
          "state": "Michigan",
          "total": 9770000
         },
         {
          "age_group": "55to64",
          "fraction": 0.14,
          "state": "Michigan",
          "total": 9770000
         },
         {
          "age_group": "65plus",
          "fraction": 0.17,
          "state": "Michigan",
          "total": 9770000
         },
         {
          "age_group": "0to18",
          "fraction": 0.24,
          "state": "Minnesota",
          "total": 5489000
         },
         {
          "age_group": "19to25",
          "fraction": 0.08,
          "state": "Minnesota",
          "total": 5489000
         },
         {
          "age_group": "26to34",
          "fraction": 0.13,
          "state": "Minnesota",
          "total": 5489000
         },
         {
          "age_group": "35to54",
          "fraction": 0.25,
          "state": "Minnesota",
          "total": 5489000
         },
         {
          "age_group": "55to64",
          "fraction": 0.14,
          "state": "Minnesota",
          "total": 5489000
         },
         {
          "age_group": "65plus",
          "fraction": 0.16,
          "state": "Minnesota",
          "total": 5489000
         },
         {
          "age_group": "0to18",
          "fraction": 0.26,
          "state": "Mississippi",
          "total": 2879400
         },
         {
          "age_group": "19to25",
          "fraction": 0.09,
          "state": "Mississippi",
          "total": 2879400
         },
         {
          "age_group": "26to34",
          "fraction": 0.11,
          "state": "Mississippi",
          "total": 2879400
         },
         {
          "age_group": "35to54",
          "fraction": 0.25,
          "state": "Mississippi",
          "total": 2879400
         },
         {
          "age_group": "55to64",
          "fraction": 0.13,
          "state": "Mississippi",
          "total": 2879400
         },
         {
          "age_group": "65plus",
          "fraction": 0.16,
          "state": "Mississippi",
          "total": 2879400
         },
         {
          "age_group": "0to18",
          "fraction": 0.24,
          "state": "Missouri",
          "total": 5934500
         },
         {
          "age_group": "19to25",
          "fraction": 0.09,
          "state": "Missouri",
          "total": 5934500
         },
         {
          "age_group": "26to34",
          "fraction": 0.12,
          "state": "Missouri",
          "total": 5934500
         },
         {
          "age_group": "35to54",
          "fraction": 0.25,
          "state": "Missouri",
          "total": 5934500
         },
         {
          "age_group": "55to64",
          "fraction": 0.14,
          "state": "Missouri",
          "total": 5934500
         },
         {
          "age_group": "65plus",
          "fraction": 0.17,
          "state": "Missouri",
          "total": 5934500
         },
         {
          "age_group": "0to18",
          "fraction": 0.23,
          "state": "Montana",
          "total": 1034000
         },
         {
          "age_group": "19to25",
          "fraction": 0.08,
          "state": "Montana",
          "total": 1034000
         },
         {
          "age_group": "26to34",
          "fraction": 0.11,
          "state": "Montana",
          "total": 1034000
         },
         {
          "age_group": "35to54",
          "fraction": 0.24,
          "state": "Montana",
          "total": 1034000
         },
         {
          "age_group": "55to64",
          "fraction": 0.15,
          "state": "Montana",
          "total": 1034000
         },
         {
          "age_group": "65plus",
          "fraction": 0.19,
          "state": "Montana",
          "total": 1034000
         },
         {
          "age_group": "0to18",
          "fraction": 0.26,
          "state": "Nebraska",
          "total": 1868900
         },
         {
          "age_group": "19to25",
          "fraction": 0.09,
          "state": "Nebraska",
          "total": 1868900
         },
         {
          "age_group": "26to34",
          "fraction": 0.12,
          "state": "Nebraska",
          "total": 1868900
         },
         {
          "age_group": "35to54",
          "fraction": 0.25,
          "state": "Nebraska",
          "total": 1868900
         },
         {
          "age_group": "55to64",
          "fraction": 0.13,
          "state": "Nebraska",
          "total": 1868900
         },
         {
          "age_group": "65plus",
          "fraction": 0.16,
          "state": "Nebraska",
          "total": 1868900
         },
         {
          "age_group": "0to18",
          "fraction": 0.24,
          "state": "Nevada",
          "total": 2983400
         },
         {
          "age_group": "19to25",
          "fraction": 0.08,
          "state": "Nevada",
          "total": 2983400
         },
         {
          "age_group": "26to34",
          "fraction": 0.13,
          "state": "Nevada",
          "total": 2983400
         },
         {
          "age_group": "35to54",
          "fraction": 0.27,
          "state": "Nevada",
          "total": 2983400
         },
         {
          "age_group": "55to64",
          "fraction": 0.13,
          "state": "Nevada",
          "total": 2983400
         },
         {
          "age_group": "65plus",
          "fraction": 0.16,
          "state": "Nevada",
          "total": 2983400
         },
         {
          "age_group": "0to18",
          "fraction": 0.2,
          "state": "NewHampshire",
          "total": 1310300
         },
         {
          "age_group": "19to25",
          "fraction": 0.08,
          "state": "NewHampshire",
          "total": 1310300
         },
         {
          "age_group": "26to34",
          "fraction": 0.11,
          "state": "NewHampshire",
          "total": 1310300
         },
         {
          "age_group": "35to54",
          "fraction": 0.26,
          "state": "NewHampshire",
          "total": 1310300
         },
         {
          "age_group": "55to64",
          "fraction": 0.16,
          "state": "NewHampshire",
          "total": 1310300
         },
         {
          "age_group": "65plus",
          "fraction": 0.18,
          "state": "NewHampshire",
          "total": 1310300
         },
         {
          "age_group": "0to18",
          "fraction": 0.23,
          "state": "NewJersey",
          "total": 8728300
         },
         {
          "age_group": "19to25",
          "fraction": 0.08,
          "state": "NewJersey",
          "total": 8728300
         },
         {
          "age_group": "26to34",
          "fraction": 0.11,
          "state": "NewJersey",
          "total": 8728300
         },
         {
          "age_group": "35to54",
          "fraction": 0.27,
          "state": "NewJersey",
          "total": 8728300
         },
         {
          "age_group": "55to64",
          "fraction": 0.14,
          "state": "NewJersey",
          "total": 8728300
         },
         {
          "age_group": "65plus",
          "fraction": 0.16,
          "state": "NewJersey",
          "total": 8728300
         },
         {
          "age_group": "0to18",
          "fraction": 0.24,
          "state": "NewMexico",
          "total": 2045300
         },
         {
          "age_group": "19to25",
          "fraction": 0.09,
          "state": "NewMexico",
          "total": 2045300
         },
         {
          "age_group": "26to34",
          "fraction": 0.12,
          "state": "NewMexico",
          "total": 2045300
         },
         {
          "age_group": "35to54",
          "fraction": 0.24,
          "state": "NewMexico",
          "total": 2045300
         },
         {
          "age_group": "55to64",
          "fraction": 0.13,
          "state": "NewMexico",
          "total": 2045300
         },
         {
          "age_group": "65plus",
          "fraction": 0.18,
          "state": "NewMexico",
          "total": 2045300
         },
         {
          "age_group": "0to18",
          "fraction": 0.22,
          "state": "NewYork",
          "total": 19016900
         },
         {
          "age_group": "19to25",
          "fraction": 0.09,
          "state": "NewYork",
          "total": 19016900
         },
         {
          "age_group": "26to34",
          "fraction": 0.13,
          "state": "NewYork",
          "total": 19016900
         },
         {
          "age_group": "35to54",
          "fraction": 0.26,
          "state": "NewYork",
          "total": 19016900
         },
         {
          "age_group": "55to64",
          "fraction": 0.14,
          "state": "NewYork",
          "total": 19016900
         },
         {
          "age_group": "65plus",
          "fraction": 0.16,
          "state": "NewYork",
          "total": 19016900
         },
         {
          "age_group": "0to18",
          "fraction": 0.24,
          "state": "NorthCarolina",
          "total": 10044400
         },
         {
          "age_group": "19to25",
          "fraction": 0.08,
          "state": "NorthCarolina",
          "total": 10044400
         },
         {
          "age_group": "26to34",
          "fraction": 0.12,
          "state": "NorthCarolina",
          "total": 10044400
         },
         {
          "age_group": "35to54",
          "fraction": 0.26,
          "state": "NorthCarolina",
          "total": 10044400
         },
         {
          "age_group": "55to64",
          "fraction": 0.13,
          "state": "NorthCarolina",
          "total": 10044400
         },
         {
          "age_group": "65plus",
          "fraction": 0.16,
          "state": "NorthCarolina",
          "total": 10044400
         },
         {
          "age_group": "0to18",
          "fraction": 0.24,
          "state": "NorthDakota",
          "total": 730600
         },
         {
          "age_group": "19to25",
          "fraction": 0.11,
          "state": "NorthDakota",
          "total": 730600
         },
         {
          "age_group": "26to34",
          "fraction": 0.14,
          "state": "NorthDakota",
          "total": 730600
         },
         {
          "age_group": "35to54",
          "fraction": 0.23,
          "state": "NorthDakota",
          "total": 730600
         },
         {
          "age_group": "55to64",
          "fraction": 0.13,
          "state": "NorthDakota",
          "total": 730600
         },
         {
          "age_group": "65plus",
          "fraction": 0.15,
          "state": "NorthDakota",
          "total": 730600
         },
         {
          "age_group": "0to18",
          "fraction": 0.23,
          "state": "Ohio",
          "total": 11355900
         },
         {
          "age_group": "19to25",
          "fraction": 0.09,
          "state": "Ohio",
          "total": 11355900
         },
         {
          "age_group": "26to34",
          "fraction": 0.12,
          "state": "Ohio",
          "total": 11355900
         },
         {
          "age_group": "35to54",
          "fraction": 0.25,
          "state": "Ohio",
          "total": 11355900
         },
         {
          "age_group": "55to64",
          "fraction": 0.14,
          "state": "Ohio",
          "total": 11355900
         },
         {
          "age_group": "65plus",
          "fraction": 0.17,
          "state": "Ohio",
          "total": 11355900
         },
         {
          "age_group": "0to18",
          "fraction": 0.26,
          "state": "Oklahoma",
          "total": 3816100
         },
         {
          "age_group": "19to25",
          "fraction": 0.09,
          "state": "Oklahoma",
          "total": 3816100
         },
         {
          "age_group": "26to34",
          "fraction": 0.13,
          "state": "Oklahoma",
          "total": 3816100
         },
         {
          "age_group": "35to54",
          "fraction": 0.24,
          "state": "Oklahoma",
          "total": 3816100
         },
         {
          "age_group": "55to64",
          "fraction": 0.13,
          "state": "Oklahoma",
          "total": 3816100
         },
         {
          "age_group": "65plus",
          "fraction": 0.16,
          "state": "Oklahoma",
          "total": 3816100
         },
         {
          "age_group": "0to18",
          "fraction": 0.22,
          "state": "Oregon",
          "total": 4110800
         },
         {
          "age_group": "19to25",
          "fraction": 0.08,
          "state": "Oregon",
          "total": 4110800
         },
         {
          "age_group": "26to34",
          "fraction": 0.13,
          "state": "Oregon",
          "total": 4110800
         },
         {
          "age_group": "35to54",
          "fraction": 0.26,
          "state": "Oregon",
          "total": 4110800
         },
         {
          "age_group": "55to64",
          "fraction": 0.13,
          "state": "Oregon",
          "total": 4110800
         },
         {
          "age_group": "65plus",
          "fraction": 0.18,
          "state": "Oregon",
          "total": 4110800
         },
         {
          "age_group": "0to18",
          "fraction": 0.22,
          "state": "Pennsylvania",
          "total": 12388100
         },
         {
          "age_group": "19to25",
          "fraction": 0.08,
          "state": "Pennsylvania",
          "total": 12388100
         },
         {
          "age_group": "26to34",
          "fraction": 0.12,
          "state": "Pennsylvania",
          "total": 12388100
         },
         {
          "age_group": "35to54",
          "fraction": 0.25,
          "state": "Pennsylvania",
          "total": 12388100
         },
         {
          "age_group": "55to64",
          "fraction": 0.14,
          "state": "Pennsylvania",
          "total": 12388100
         },
         {
          "age_group": "65plus",
          "fraction": 0.18,
          "state": "Pennsylvania",
          "total": 12388100
         },
         {
          "age_group": "0to18",
          "fraction": 0.2,
          "state": "PuertoRico",
          "total": 3164400
         },
         {
          "age_group": "19to25",
          "fraction": 0.1,
          "state": "PuertoRico",
          "total": 3164400
         },
         {
          "age_group": "26to34",
          "fraction": 0.11,
          "state": "PuertoRico",
          "total": 3164400
         },
         {
          "age_group": "35to54",
          "fraction": 0.26,
          "state": "PuertoRico",
          "total": 3164400
         },
         {
          "age_group": "55to64",
          "fraction": 0.13,
          "state": "PuertoRico",
          "total": 3164400
         },
         {
          "age_group": "65plus",
          "fraction": 0.21,
          "state": "PuertoRico",
          "total": 3164400
         },
         {
          "age_group": "0to18",
          "fraction": 0.2,
          "state": "RhodeIsland",
          "total": 1014000
         },
         {
          "age_group": "19to25",
          "fraction": 0.09,
          "state": "RhodeIsland",
          "total": 1014000
         },
         {
          "age_group": "26to34",
          "fraction": 0.13,
          "state": "RhodeIsland",
          "total": 1014000
         },
         {
          "age_group": "35to54",
          "fraction": 0.26,
          "state": "RhodeIsland",
          "total": 1014000
         },
         {
          "age_group": "55to64",
          "fraction": 0.15,
          "state": "RhodeIsland",
          "total": 1014000
         },
         {
          "age_group": "65plus",
          "fraction": 0.17,
          "state": "RhodeIsland",
          "total": 1014000
         },
         {
          "age_group": "0to18",
          "fraction": 0.23,
          "state": "SouthCarolina",
          "total": 4929800
         },
         {
          "age_group": "19to25",
          "fraction": 0.09,
          "state": "SouthCarolina",
          "total": 4929800
         },
         {
          "age_group": "26to34",
          "fraction": 0.11,
          "state": "SouthCarolina",
          "total": 4929800
         },
         {
          "age_group": "35to54",
          "fraction": 0.25,
          "state": "SouthCarolina",
          "total": 4929800
         },
         {
          "age_group": "55to64",
          "fraction": 0.14,
          "state": "SouthCarolina",
          "total": 4929800
         },
         {
          "age_group": "65plus",
          "fraction": 0.18,
          "state": "SouthCarolina",
          "total": 4929800
         },
         {
          "age_group": "0to18",
          "fraction": 0.26,
          "state": "SouthDakota",
          "total": 848700
         },
         {
          "age_group": "19to25",
          "fraction": 0.09,
          "state": "SouthDakota",
          "total": 848700
         },
         {
          "age_group": "26to34",
          "fraction": 0.11,
          "state": "SouthDakota",
          "total": 848700
         },
         {
          "age_group": "35to54",
          "fraction": 0.24,
          "state": "SouthDakota",
          "total": 848700
         },
         {
          "age_group": "55to64",
          "fraction": 0.14,
          "state": "SouthDakota",
          "total": 848700
         },
         {
          "age_group": "65plus",
          "fraction": 0.16,
          "state": "SouthDakota",
          "total": 848700
         },
         {
          "age_group": "0to18",
          "fraction": 0.24,
          "state": "Tennessee",
          "total": 6586400
         },
         {
          "age_group": "19to25",
          "fraction": 0.09,
          "state": "Tennessee",
          "total": 6586400
         },
         {
          "age_group": "26to34",
          "fraction": 0.12,
          "state": "Tennessee",
          "total": 6586400
         },
         {
          "age_group": "35to54",
          "fraction": 0.26,
          "state": "Tennessee",
          "total": 6586400
         },
         {
          "age_group": "55to64",
          "fraction": 0.13,
          "state": "Tennessee",
          "total": 6586400
         },
         {
          "age_group": "65plus",
          "fraction": 0.16,
          "state": "Tennessee",
          "total": 6586400
         },
         {
          "age_group": "0to18",
          "fraction": 0.27,
          "state": "Texas",
          "total": 28024000
         },
         {
          "age_group": "19to25",
          "fraction": 0.09,
          "state": "Texas",
          "total": 28024000
         },
         {
          "age_group": "26to34",
          "fraction": 0.13,
          "state": "Texas",
          "total": 28024000
         },
         {
          "age_group": "35to54",
          "fraction": 0.26,
          "state": "Texas",
          "total": 28024000
         },
         {
          "age_group": "55to64",
          "fraction": 0.11,
          "state": "Texas",
          "total": 28024000
         },
         {
          "age_group": "65plus",
          "fraction": 0.13,
          "state": "Texas",
          "total": 28024000
         },
         {
          "age_group": "0to18",
          "fraction": 0.31,
          "state": "Utah",
          "total": 3105900
         },
         {
          "age_group": "19to25",
          "fraction": 0.11,
          "state": "Utah",
          "total": 3105900
         },
         {
          "age_group": "26to34",
          "fraction": 0.13,
          "state": "Utah",
          "total": 3105900
         },
         {
          "age_group": "35to54",
          "fraction": 0.24,
          "state": "Utah",
          "total": 3105900
         },
         {
          "age_group": "55to64",
          "fraction": 0.1,
          "state": "Utah",
          "total": 3105900
         },
         {
          "age_group": "65plus",
          "fraction": 0.11,
          "state": "Utah",
          "total": 3105900
         },
         {
          "age_group": "0to18",
          "fraction": 0.19,
          "state": "Vermont",
          "total": 600600
         },
         {
          "age_group": "19to25",
          "fraction": 0.08,
          "state": "Vermont",
          "total": 600600
         },
         {
          "age_group": "26to34",
          "fraction": 0.11,
          "state": "Vermont",
          "total": 600600
         },
         {
          "age_group": "35to54",
          "fraction": 0.25,
          "state": "Vermont",
          "total": 600600
         },
         {
          "age_group": "55to64",
          "fraction": 0.16,
          "state": "Vermont",
          "total": 600600
         },
         {
          "age_group": "65plus",
          "fraction": 0.2,
          "state": "Vermont",
          "total": 600600
         },
         {
          "age_group": "0to18",
          "fraction": 0.24,
          "state": "Virginia",
          "total": 8182100
         },
         {
          "age_group": "19to25",
          "fraction": 0.09,
          "state": "Virginia",
          "total": 8182100
         },
         {
          "age_group": "26to34",
          "fraction": 0.12,
          "state": "Virginia",
          "total": 8182100
         },
         {
          "age_group": "35to54",
          "fraction": 0.26,
          "state": "Virginia",
          "total": 8182100
         },
         {
          "age_group": "55to64",
          "fraction": 0.13,
          "state": "Virginia",
          "total": 8182100
         },
         {
          "age_group": "65plus",
          "fraction": 0.16,
          "state": "Virginia",
          "total": 8182100
         },
         {
          "age_group": "0to18",
          "fraction": 0.23,
          "state": "Washington",
          "total": 7368000
         },
         {
          "age_group": "19to25",
          "fraction": 0.08,
          "state": "Washington",
          "total": 7368000
         },
         {
          "age_group": "26to34",
          "fraction": 0.14,
          "state": "Washington",
          "total": 7368000
         },
         {
          "age_group": "35to54",
          "fraction": 0.26,
          "state": "Washington",
          "total": 7368000
         },
         {
          "age_group": "55to64",
          "fraction": 0.13,
          "state": "Washington",
          "total": 7368000
         },
         {
          "age_group": "65plus",
          "fraction": 0.16,
          "state": "Washington",
          "total": 7368000
         },
         {
          "age_group": "0to18",
          "fraction": 0.21,
          "state": "WestVirginia",
          "total": 1752300
         },
         {
          "age_group": "19to25",
          "fraction": 0.08,
          "state": "WestVirginia",
          "total": 1752300
         },
         {
          "age_group": "26to34",
          "fraction": 0.11,
          "state": "WestVirginia",
          "total": 1752300
         },
         {
          "age_group": "35to54",
          "fraction": 0.25,
          "state": "WestVirginia",
          "total": 1752300
         },
         {
          "age_group": "55to64",
          "fraction": 0.15,
          "state": "WestVirginia",
          "total": 1752300
         },
         {
          "age_group": "65plus",
          "fraction": 0.2,
          "state": "WestVirginia",
          "total": 1752300
         },
         {
          "age_group": "0to18",
          "fraction": 0.23,
          "state": "Wisconsin",
          "total": 5662800
         },
         {
          "age_group": "19to25",
          "fraction": 0.09,
          "state": "Wisconsin",
          "total": 5662800
         },
         {
          "age_group": "26to34",
          "fraction": 0.11,
          "state": "Wisconsin",
          "total": 5662800
         },
         {
          "age_group": "35to54",
          "fraction": 0.26,
          "state": "Wisconsin",
          "total": 5662800
         },
         {
          "age_group": "55to64",
          "fraction": 0.14,
          "state": "Wisconsin",
          "total": 5662800
         },
         {
          "age_group": "65plus",
          "fraction": 0.17,
          "state": "Wisconsin",
          "total": 5662800
         },
         {
          "age_group": "0to18",
          "fraction": 0.24,
          "state": "Wyoming",
          "total": 560300
         },
         {
          "age_group": "19to25",
          "fraction": 0.08,
          "state": "Wyoming",
          "total": 560300
         },
         {
          "age_group": "26to34",
          "fraction": 0.12,
          "state": "Wyoming",
          "total": 560300
         },
         {
          "age_group": "35to54",
          "fraction": 0.24,
          "state": "Wyoming",
          "total": 560300
         },
         {
          "age_group": "55to64",
          "fraction": 0.14,
          "state": "Wyoming",
          "total": 560300
         },
         {
          "age_group": "65plus",
          "fraction": 0.17,
          "state": "Wyoming",
          "total": 560300
         }
        ]
       },
       "layer": [
        {
         "encoding": {
          "color": {
           "field": "age_group"
          },
          "x": {
           "field": "state",
           "type": "nominal"
          },
          "y": {
           "field": "fraction",
           "type": "quantitative"
          }
         },
         "mark": "bar"
        },
        {
         "data": {
          "values": [
           {
            "ref": 0.5
           }
          ]
         },
         "encoding": {
          "y": {
           "field": "ref",
           "type": "quantitative"
          }
         },
         "mark": {
          "color": "red",
          "type": "rule"
         }
        }
       ]
      },
      "image/png": "[encoded data removed]",
      "image/svg+xml": [
       "<?xml version=\"1.0\" encoding=\"utf-8\"?>\n",
       "<!DOCTYPE svg PUBLIC \"-//W3C//DTD SVG 1.1//EN\" \"http://www.w3.org/Graphics/SVG/1.1/DTD/svg11.dtd\">\n",
       "<svg class=\"marks\" width=\"1170\" height=\"326\" viewBox=\"0 0 1170 326\" version=\"1.1\" xmlns=\"http://www.w3.org/2000/svg\" xmlns:xlink=\"http://www.w3.org/1999/xlink\"><rect width=\"1170\" height=\"326\" style=\"fill: white;\"></rect><g transform=\"translate(42,5)\"><g class=\"mark-group role-frame root\"><g transform=\"translate(0,0)\"><path class=\"background\" d=\"M0.5,0.5h1040v200h-1040Z\" style=\"fill: none; stroke: #ddd;\"></path><g><g class=\"mark-group role-axis\"><g transform=\"translate(0.5,0.5)\"><path class=\"background\" d=\"M0,0h0v0h0Z\" style=\"pointer-events: none; fill: none;\"></path><g><g class=\"mark-rule role-axis-grid\" style=\"pointer-events: none;\"><line transform=\"translate(0,200)\" x2=\"1040\" y2=\"0\" style=\"fill: none; stroke: #ddd; stroke-width: 1; opacity: 1;\"></line><line transform=\"translate(0,164)\" x2=\"1040\" y2=\"0\" style=\"fill: none; stroke: #ddd; stroke-width: 1; opacity: 1;\"></line><line transform=\"translate(0,127)\" x2=\"1040\" y2=\"0\" style=\"fill: none; stroke: #ddd; stroke-width: 1; opacity: 1;\"></line><line transform=\"translate(0,91)\" x2=\"1040\" y2=\"0\" style=\"fill: none; stroke: #ddd; stroke-width: 1; opacity: 1;\"></line><line transform=\"translate(0,55)\" x2=\"1040\" y2=\"0\" style=\"fill: none; stroke: #ddd; stroke-width: 1; opacity: 1;\"></line><line transform=\"translate(0,18)\" x2=\"1040\" y2=\"0\" style=\"fill: none; stroke: #ddd; stroke-width: 1; opacity: 1;\"></line></g></g><path class=\"foreground\" d=\"\" style=\"pointer-events: none; display: none; fill: none;\"></path></g></g><g class=\"mark-group role-axis\"><g transform=\"translate(0.5,200.5)\"><path class=\"background\" d=\"M0,0h0v0h0Z\" style=\"pointer-events: none; fill: none;\"></path><g><g class=\"mark-rule role-axis-tick\" style=\"pointer-events: none;\"><line transform=\"translate(10,0)\" x2=\"0\" y2=\"5\" style=\"fill: none; stroke: #888; stroke-width: 1; opacity: 1;\"></line><line transform=\"translate(30,0)\" x2=\"0\" y2=\"5\" style=\"fill: none; stroke: #888; stroke-width: 1; opacity: 1;\"></line><line transform=\"translate(50,0)\" x2=\"0\" y2=\"5\" style=\"fill: none; stroke: #888; stroke-width: 1; opacity: 1;\"></line><line transform=\"translate(70,0)\" x2=\"0\" y2=\"5\" style=\"fill: none; stroke: #888; stroke-width: 1; opacity: 1;\"></line><line transform=\"translate(90,0)\" x2=\"0\" y2=\"5\" style=\"fill: none; stroke: #888; stroke-width: 1; opacity: 1;\"></line><line transform=\"translate(110,0)\" x2=\"0\" y2=\"5\" style=\"fill: none; stroke: #888; stroke-width: 1; opacity: 1;\"></line><line transform=\"translate(130,0)\" x2=\"0\" y2=\"5\" style=\"fill: none; stroke: #888; stroke-width: 1; opacity: 1;\"></line><line transform=\"translate(150,0)\" x2=\"0\" y2=\"5\" style=\"fill: none; stroke: #888; stroke-width: 1; opacity: 1;\"></line><line transform=\"translate(170,0)\" x2=\"0\" y2=\"5\" style=\"fill: none; stroke: #888; stroke-width: 1; opacity: 1;\"></line><line transform=\"translate(190,0)\" x2=\"0\" y2=\"5\" style=\"fill: none; stroke: #888; stroke-width: 1; opacity: 1;\"></line><line transform=\"translate(210,0)\" x2=\"0\" y2=\"5\" style=\"fill: none; stroke: #888; stroke-width: 1; opacity: 1;\"></line><line transform=\"translate(230,0)\" x2=\"0\" y2=\"5\" style=\"fill: none; stroke: #888; stroke-width: 1; opacity: 1;\"></line><line transform=\"translate(250,0)\" x2=\"0\" y2=\"5\" style=\"fill: none; stroke: #888; stroke-width: 1; opacity: 1;\"></line><line transform=\"translate(270,0)\" x2=\"0\" y2=\"5\" style=\"fill: none; stroke: #888; stroke-width: 1; opacity: 1;\"></line><line transform=\"translate(290,0)\" x2=\"0\" y2=\"5\" style=\"fill: none; stroke: #888; stroke-width: 1; opacity: 1;\"></line><line transform=\"translate(310,0)\" x2=\"0\" y2=\"5\" style=\"fill: none; stroke: #888; stroke-width: 1; opacity: 1;\"></line><line transform=\"translate(330,0)\" x2=\"0\" y2=\"5\" style=\"fill: none; stroke: #888; stroke-width: 1; opacity: 1;\"></line><line transform=\"translate(350,0)\" x2=\"0\" y2=\"5\" style=\"fill: none; stroke: #888; stroke-width: 1; opacity: 1;\"></line><line transform=\"translate(370,0)\" x2=\"0\" y2=\"5\" style=\"fill: none; stroke: #888; stroke-width: 1; opacity: 1;\"></line><line transform=\"translate(390,0)\" x2=\"0\" y2=\"5\" style=\"fill: none; stroke: #888; stroke-width: 1; opacity: 1;\"></line><line transform=\"translate(410,0)\" x2=\"0\" y2=\"5\" style=\"fill: none; stroke: #888; stroke-width: 1; opacity: 1;\"></line><line transform=\"translate(430,0)\" x2=\"0\" y2=\"5\" style=\"fill: none; stroke: #888; stroke-width: 1; opacity: 1;\"></line><line transform=\"translate(450,0)\" x2=\"0\" y2=\"5\" style=\"fill: none; stroke: #888; stroke-width: 1; opacity: 1;\"></line><line transform=\"translate(470,0)\" x2=\"0\" y2=\"5\" style=\"fill: none; stroke: #888; stroke-width: 1; opacity: 1;\"></line><line transform=\"translate(490,0)\" x2=\"0\" y2=\"5\" style=\"fill: none; stroke: #888; stroke-width: 1; opacity: 1;\"></line><line transform=\"translate(510,0)\" x2=\"0\" y2=\"5\" style=\"fill: none; stroke: #888; stroke-width: 1; opacity: 1;\"></line><line transform=\"translate(530,0)\" x2=\"0\" y2=\"5\" style=\"fill: none; stroke: #888; stroke-width: 1; opacity: 1;\"></line><line transform=\"translate(550,0)\" x2=\"0\" y2=\"5\" style=\"fill: none; stroke: #888; stroke-width: 1; opacity: 1;\"></line><line transform=\"translate(570,0)\" x2=\"0\" y2=\"5\" style=\"fill: none; stroke: #888; stroke-width: 1; opacity: 1;\"></line><line transform=\"translate(590,0)\" x2=\"0\" y2=\"5\" style=\"fill: none; stroke: #888; stroke-width: 1; opacity: 1;\"></line><line transform=\"translate(610,0)\" x2=\"0\" y2=\"5\" style=\"fill: none; stroke: #888; stroke-width: 1; opacity: 1;\"></line><line transform=\"translate(630,0)\" x2=\"0\" y2=\"5\" style=\"fill: none; stroke: #888; stroke-width: 1; opacity: 1;\"></line><line transform=\"translate(650,0)\" x2=\"0\" y2=\"5\" style=\"fill: none; stroke: #888; stroke-width: 1; opacity: 1;\"></line><line transform=\"translate(670,0)\" x2=\"0\" y2=\"5\" style=\"fill: none; stroke: #888; stroke-width: 1; opacity: 1;\"></line><line transform=\"translate(690,0)\" x2=\"0\" y2=\"5\" style=\"fill: none; stroke: #888; stroke-width: 1; opacity: 1;\"></line><line transform=\"translate(710,0)\" x2=\"0\" y2=\"5\" style=\"fill: none; stroke: #888; stroke-width: 1; opacity: 1;\"></line><line transform=\"translate(730,0)\" x2=\"0\" y2=\"5\" style=\"fill: none; stroke: #888; stroke-width: 1; opacity: 1;\"></line><line transform=\"translate(750,0)\" x2=\"0\" y2=\"5\" style=\"fill: none; stroke: #888; stroke-width: 1; opacity: 1;\"></line><line transform=\"translate(770,0)\" x2=\"0\" y2=\"5\" style=\"fill: none; stroke: #888; stroke-width: 1; opacity: 1;\"></line><line transform=\"translate(790,0)\" x2=\"0\" y2=\"5\" style=\"fill: none; stroke: #888; stroke-width: 1; opacity: 1;\"></line><line transform=\"translate(810,0)\" x2=\"0\" y2=\"5\" style=\"fill: none; stroke: #888; stroke-width: 1; opacity: 1;\"></line><line transform=\"translate(830,0)\" x2=\"0\" y2=\"5\" style=\"fill: none; stroke: #888; stroke-width: 1; opacity: 1;\"></line><line transform=\"translate(850,0)\" x2=\"0\" y2=\"5\" style=\"fill: none; stroke: #888; stroke-width: 1; opacity: 1;\"></line><line transform=\"translate(870,0)\" x2=\"0\" y2=\"5\" style=\"fill: none; stroke: #888; stroke-width: 1; opacity: 1;\"></line><line transform=\"translate(890,0)\" x2=\"0\" y2=\"5\" style=\"fill: none; stroke: #888; stroke-width: 1; opacity: 1;\"></line><line transform=\"translate(910,0)\" x2=\"0\" y2=\"5\" style=\"fill: none; stroke: #888; stroke-width: 1; opacity: 1;\"></line><line transform=\"translate(930,0)\" x2=\"0\" y2=\"5\" style=\"fill: none; stroke: #888; stroke-width: 1; opacity: 1;\"></line><line transform=\"translate(950,0)\" x2=\"0\" y2=\"5\" style=\"fill: none; stroke: #888; stroke-width: 1; opacity: 1;\"></line><line transform=\"translate(970,0)\" x2=\"0\" y2=\"5\" style=\"fill: none; stroke: #888; stroke-width: 1; opacity: 1;\"></line><line transform=\"translate(990,0)\" x2=\"0\" y2=\"5\" style=\"fill: none; stroke: #888; stroke-width: 1; opacity: 1;\"></line><line transform=\"translate(1010,0)\" x2=\"0\" y2=\"5\" style=\"fill: none; stroke: #888; stroke-width: 1; opacity: 1;\"></line><line transform=\"translate(1030,0)\" x2=\"0\" y2=\"5\" style=\"fill: none; stroke: #888; stroke-width: 1; opacity: 1;\"></line></g><g class=\"mark-text role-axis-label\" style=\"pointer-events: none;\"><text text-anchor=\"end\" transform=\"translate(9.5,7) rotate(270) translate(0,3)\" style=\"font-family: sans-serif; font-size: 10px; fill: #000; opacity: 1;\">Alabama</text><text text-anchor=\"end\" transform=\"translate(29.5,7) rotate(270) translate(0,3)\" style=\"font-family: sans-serif; font-size: 10px; fill: #000; opacity: 1;\">Alaska</text><text text-anchor=\"end\" transform=\"translate(49.5,7) rotate(270) translate(0,3)\" style=\"font-family: sans-serif; font-size: 10px; fill: #000; opacity: 1;\">Arizona</text><text text-anchor=\"end\" transform=\"translate(69.5,7) rotate(270) translate(0,3)\" style=\"font-family: sans-serif; font-size: 10px; fill: #000; opacity: 1;\">Arkansas</text><text text-anchor=\"end\" transform=\"translate(89.5,7) rotate(270) translate(0,3)\" style=\"font-family: sans-serif; font-size: 10px; fill: #000; opacity: 1;\">California</text><text text-anchor=\"end\" transform=\"translate(109.5,7) rotate(270) translate(0,3)\" style=\"font-family: sans-serif; font-size: 10px; fill: #000; opacity: 1;\">Colorado</text><text text-anchor=\"end\" transform=\"translate(129.5,7) rotate(270) translate(0,3)\" style=\"font-family: sans-serif; font-size: 10px; fill: #000; opacity: 1;\">Connecticut</text><text text-anchor=\"end\" transform=\"translate(149.5,7) rotate(270) translate(0,3)\" style=\"font-family: sans-serif; font-size: 10px; fill: #000; opacity: 1;\">Delaware</text><text text-anchor=\"end\" transform=\"translate(169.5,7) rotate(270) translate(0,3)\" style=\"font-family: sans-serif; font-size: 10px; fill: #000; opacity: 1;\">DistrictofColumbia</text><text text-anchor=\"end\" transform=\"translate(189.5,7) rotate(270) translate(0,3)\" style=\"font-family: sans-serif; font-size: 10px; fill: #000; opacity: 1;\">Florida</text><text text-anchor=\"end\" transform=\"translate(209.5,7) rotate(270) translate(0,3)\" style=\"font-family: sans-serif; font-size: 10px; fill: #000; opacity: 1;\">Georgia</text><text text-anchor=\"end\" transform=\"translate(229.5,7) rotate(270) translate(0,3)\" style=\"font-family: sans-serif; font-size: 10px; fill: #000; opacity: 1;\">Hawaii</text><text text-anchor=\"end\" transform=\"translate(249.5,7) rotate(270) translate(0,3)\" style=\"font-family: sans-serif; font-size: 10px; fill: #000; opacity: 1;\">Idaho</text><text text-anchor=\"end\" transform=\"translate(269.5,7) rotate(270) translate(0,3)\" style=\"font-family: sans-serif; font-size: 10px; fill: #000; opacity: 1;\">Illinois</text><text text-anchor=\"end\" transform=\"translate(289.5,7) rotate(270) translate(0,3)\" style=\"font-family: sans-serif; font-size: 10px; fill: #000; opacity: 1;\">Indiana</text><text text-anchor=\"end\" transform=\"translate(309.5,7) rotate(270) translate(0,3)\" style=\"font-family: sans-serif; font-size: 10px; fill: #000; opacity: 1;\">Iowa</text><text text-anchor=\"end\" transform=\"translate(329.5,7) rotate(270) translate(0,3)\" style=\"font-family: sans-serif; font-size: 10px; fill: #000; opacity: 1;\">Kansas</text><text text-anchor=\"end\" transform=\"translate(349.5,7) rotate(270) translate(0,3)\" style=\"font-family: sans-serif; font-size: 10px; fill: #000; opacity: 1;\">Kentucky</text><text text-anchor=\"end\" transform=\"translate(369.5,7) rotate(270) translate(0,3)\" style=\"font-family: sans-serif; font-size: 10px; fill: #000; opacity: 1;\">Louisiana</text><text text-anchor=\"end\" transform=\"translate(389.5,7) rotate(270) translate(0,3)\" style=\"font-family: sans-serif; font-size: 10px; fill: #000; opacity: 1;\">Maine</text><text text-anchor=\"end\" transform=\"translate(409.5,7) rotate(270) translate(0,3)\" style=\"font-family: sans-serif; font-size: 10px; fill: #000; opacity: 1;\">Maryland</text><text text-anchor=\"end\" transform=\"translate(429.5,7) rotate(270) translate(0,3)\" style=\"font-family: sans-serif; font-size: 10px; fill: #000; opacity: 1;\">Massachusetts</text><text text-anchor=\"end\" transform=\"translate(449.5,7) rotate(270) translate(0,3)\" style=\"font-family: sans-serif; font-size: 10px; fill: #000; opacity: 1;\">Michigan</text><text text-anchor=\"end\" transform=\"translate(469.5,7) rotate(270) translate(0,3)\" style=\"font-family: sans-serif; font-size: 10px; fill: #000; opacity: 1;\">Minnesota</text><text text-anchor=\"end\" transform=\"translate(489.5,7) rotate(270) translate(0,3)\" style=\"font-family: sans-serif; font-size: 10px; fill: #000; opacity: 1;\">Mississippi</text><text text-anchor=\"end\" transform=\"translate(509.5,7) rotate(270) translate(0,3)\" style=\"font-family: sans-serif; font-size: 10px; fill: #000; opacity: 1;\">Missouri</text><text text-anchor=\"end\" transform=\"translate(529.5,7) rotate(270) translate(0,3)\" style=\"font-family: sans-serif; font-size: 10px; fill: #000; opacity: 1;\">Montana</text><text text-anchor=\"end\" transform=\"translate(549.5,7) rotate(270) translate(0,3)\" style=\"font-family: sans-serif; font-size: 10px; fill: #000; opacity: 1;\">Nebraska</text><text text-anchor=\"end\" transform=\"translate(569.5,7) rotate(270) translate(0,3)\" style=\"font-family: sans-serif; font-size: 10px; fill: #000; opacity: 1;\">Nevada</text><text text-anchor=\"end\" transform=\"translate(589.5,7) rotate(270) translate(0,3)\" style=\"font-family: sans-serif; font-size: 10px; fill: #000; opacity: 1;\">NewHampshire</text><text text-anchor=\"end\" transform=\"translate(609.5,7) rotate(270) translate(0,3)\" style=\"font-family: sans-serif; font-size: 10px; fill: #000; opacity: 1;\">NewJersey</text><text text-anchor=\"end\" transform=\"translate(629.5,7) rotate(270) translate(0,3)\" style=\"font-family: sans-serif; font-size: 10px; fill: #000; opacity: 1;\">NewMexico</text><text text-anchor=\"end\" transform=\"translate(649.5,7) rotate(270) translate(0,3)\" style=\"font-family: sans-serif; font-size: 10px; fill: #000; opacity: 1;\">NewYork</text><text text-anchor=\"end\" transform=\"translate(669.5,7) rotate(270) translate(0,3)\" style=\"font-family: sans-serif; font-size: 10px; fill: #000; opacity: 1;\">NorthCarolina</text><text text-anchor=\"end\" transform=\"translate(689.5,7) rotate(270) translate(0,3)\" style=\"font-family: sans-serif; font-size: 10px; fill: #000; opacity: 1;\">NorthDakota</text><text text-anchor=\"end\" transform=\"translate(709.5,7) rotate(270) translate(0,3)\" style=\"font-family: sans-serif; font-size: 10px; fill: #000; opacity: 1;\">Ohio</text><text text-anchor=\"end\" transform=\"translate(729.5,7) rotate(270) translate(0,3)\" style=\"font-family: sans-serif; font-size: 10px; fill: #000; opacity: 1;\">Oklahoma</text><text text-anchor=\"end\" transform=\"translate(749.5,7) rotate(270) translate(0,3)\" style=\"font-family: sans-serif; font-size: 10px; fill: #000; opacity: 1;\">Oregon</text><text text-anchor=\"end\" transform=\"translate(769.5,7) rotate(270) translate(0,3)\" style=\"font-family: sans-serif; font-size: 10px; fill: #000; opacity: 1;\">Pennsylvania</text><text text-anchor=\"end\" transform=\"translate(789.5,7) rotate(270) translate(0,3)\" style=\"font-family: sans-serif; font-size: 10px; fill: #000; opacity: 1;\">PuertoRico</text><text text-anchor=\"end\" transform=\"translate(809.5,7) rotate(270) translate(0,3)\" style=\"font-family: sans-serif; font-size: 10px; fill: #000; opacity: 1;\">RhodeIsland</text><text text-anchor=\"end\" transform=\"translate(829.5,7) rotate(270) translate(0,3)\" style=\"font-family: sans-serif; font-size: 10px; fill: #000; opacity: 1;\">SouthCarolina</text><text text-anchor=\"end\" transform=\"translate(849.5,7) rotate(270) translate(0,3)\" style=\"font-family: sans-serif; font-size: 10px; fill: #000; opacity: 1;\">SouthDakota</text><text text-anchor=\"end\" transform=\"translate(869.5,7) rotate(270) translate(0,3)\" style=\"font-family: sans-serif; font-size: 10px; fill: #000; opacity: 1;\">Tennessee</text><text text-anchor=\"end\" transform=\"translate(889.5,7) rotate(270) translate(0,3)\" style=\"font-family: sans-serif; font-size: 10px; fill: #000; opacity: 1;\">Texas</text><text text-anchor=\"end\" transform=\"translate(909.5,7) rotate(270) translate(0,3)\" style=\"font-family: sans-serif; font-size: 10px; fill: #000; opacity: 1;\">Utah</text><text text-anchor=\"end\" transform=\"translate(929.5,7) rotate(270) translate(0,3)\" style=\"font-family: sans-serif; font-size: 10px; fill: #000; opacity: 1;\">Vermont</text><text text-anchor=\"end\" transform=\"translate(949.5,7) rotate(270) translate(0,3)\" style=\"font-family: sans-serif; font-size: 10px; fill: #000; opacity: 1;\">Virginia</text><text text-anchor=\"end\" transform=\"translate(969.5,7) rotate(270) translate(0,3)\" style=\"font-family: sans-serif; font-size: 10px; fill: #000; opacity: 1;\">Washington</text><text text-anchor=\"end\" transform=\"translate(989.5,7) rotate(270) translate(0,3)\" style=\"font-family: sans-serif; font-size: 10px; fill: #000; opacity: 1;\">WestVirginia</text><text text-anchor=\"end\" transform=\"translate(1009.5,7) rotate(270) translate(0,3)\" style=\"font-family: sans-serif; font-size: 10px; fill: #000; opacity: 1;\">Wisconsin</text><text text-anchor=\"end\" transform=\"translate(1029.5,7) rotate(270) translate(0,3)\" style=\"font-family: sans-serif; font-size: 10px; fill: #000; opacity: 1;\">Wyoming</text></g><g class=\"mark-rule role-axis-domain\" style=\"pointer-events: none;\"><line transform=\"translate(0,0)\" x2=\"1040\" y2=\"0\" style=\"fill: none; stroke: #888; stroke-width: 1; opacity: 1;\"></line></g><g class=\"mark-text role-axis-title\" style=\"pointer-events: none;\"><text text-anchor=\"middle\" transform=\"translate(520,114)\" style=\"font-family: sans-serif; font-size: 11px; font-weight: bold; fill: #000; opacity: 1;\">state</text></g></g><path class=\"foreground\" d=\"\" style=\"pointer-events: none; display: none; fill: none;\"></path></g></g><g class=\"mark-group role-axis\"><g transform=\"translate(0.5,0.5)\"><path class=\"background\" d=\"M0,0h0v0h0Z\" style=\"pointer-events: none; fill: none;\"></path><g><g class=\"mark-rule role-axis-tick\" style=\"pointer-events: none;\"><line transform=\"translate(0,200)\" x2=\"-5\" y2=\"0\" style=\"fill: none; stroke: #888; stroke-width: 1; opacity: 1;\"></line><line transform=\"translate(0,164)\" x2=\"-5\" y2=\"0\" style=\"fill: none; stroke: #888; stroke-width: 1; opacity: 1;\"></line><line transform=\"translate(0,127)\" x2=\"-5\" y2=\"0\" style=\"fill: none; stroke: #888; stroke-width: 1; opacity: 1;\"></line><line transform=\"translate(0,91)\" x2=\"-5\" y2=\"0\" style=\"fill: none; stroke: #888; stroke-width: 1; opacity: 1;\"></line><line transform=\"translate(0,55)\" x2=\"-5\" y2=\"0\" style=\"fill: none; stroke: #888; stroke-width: 1; opacity: 1;\"></line><line transform=\"translate(0,18)\" x2=\"-5\" y2=\"0\" style=\"fill: none; stroke: #888; stroke-width: 1; opacity: 1;\"></line></g><g class=\"mark-text role-axis-label\" style=\"pointer-events: none;\"><text text-anchor=\"end\" transform=\"translate(-7,203)\" style=\"font-family: sans-serif; font-size: 10px; fill: #000; opacity: 1;\">0.0</text><text text-anchor=\"end\" transform=\"translate(-7,166.63636363636363)\" style=\"font-family: sans-serif; font-size: 10px; fill: #000; opacity: 1;\">0.2</text><text text-anchor=\"end\" transform=\"translate(-7,130.27272727272725)\" style=\"font-family: sans-serif; font-size: 10px; fill: #000; opacity: 1;\">0.4</text><text text-anchor=\"end\" transform=\"translate(-7,93.90909090909092)\" style=\"font-family: sans-serif; font-size: 10px; fill: #000; opacity: 1;\">0.6</text><text text-anchor=\"end\" transform=\"translate(-7,57.54545454545454)\" style=\"font-family: sans-serif; font-size: 10px; fill: #000; opacity: 1;\">0.8</text><text text-anchor=\"end\" transform=\"translate(-7,21.181818181818187)\" style=\"font-family: sans-serif; font-size: 10px; fill: #000; opacity: 1;\">1.0</text></g><g class=\"mark-rule role-axis-domain\" style=\"pointer-events: none;\"><line transform=\"translate(0,200)\" x2=\"0\" y2=\"-200\" style=\"fill: none; stroke: #888; stroke-width: 1; opacity: 1;\"></line></g><g class=\"mark-text role-axis-title\" style=\"pointer-events: none;\"><text text-anchor=\"middle\" transform=\"translate(-26,100) rotate(-90) translate(0,-2)\" style=\"font-family: sans-serif; font-size: 11px; font-weight: bold; fill: #000; opacity: 1;\">fraction, ref</text></g></g><path class=\"foreground\" d=\"\" style=\"pointer-events: none; display: none; fill: none;\"></path></g></g><g class=\"mark-rect role-mark layer_0_marks\"><path d=\"M1,16.36363636363638h18v43.636363636363626h-18Z\" style=\"fill: #4c78a8;\"></path><path d=\"M1,60.00000000000001h18v16.363636363636367h-18Z\" style=\"fill: #f58518;\"></path><path d=\"M1,76.36363636363637h18v21.8181818181818h-18Z\" style=\"fill: #e45756;\"></path><path d=\"M1,98.18181818181817h18v45.45454545454545h-18Z\" style=\"fill: #72b7b2;\"></path><path d=\"M1,143.63636363636363h18v25.454545454545467h-18Z\" style=\"fill: #54a24b;\"></path><path d=\"M1,169.0909090909091h18v30.909090909090907h-18Z\" style=\"fill: #eeca3b;\"></path><path d=\"M21,18.181818181818187h18v49.09090909090909h-18Z\" style=\"fill: #4c78a8;\"></path><path d=\"M21,67.27272727272728h18v16.36363636363636h-18Z\" style=\"fill: #f58518;\"></path><path d=\"M21,83.63636363636364h18v23.63636363636364h-18Z\" style=\"fill: #e45756;\"></path><path d=\"M21,107.27272727272728h18v47.27272727272725h-18Z\" style=\"fill: #72b7b2;\"></path><path d=\"M21,154.54545454545453h18v23.636363636363654h-18Z\" style=\"fill: #54a24b;\"></path><path d=\"M21,178.1818181818182h18v21.818181818181813h-18Z\" style=\"fill: #eeca3b;\"></path><path d=\"M41,20.000000000000018h18v43.636363636363626h-18Z\" style=\"fill: #4c78a8;\"></path><path d=\"M41,63.63636363636365h18v16.363636363636353h-18Z\" style=\"fill: #f58518;\"></path><path d=\"M41,80h18v21.818181818181813h-18Z\" style=\"fill: #e45756;\"></path><path d=\"M41,101.81818181818181h18v43.636363636363654h-18Z\" style=\"fill: #72b7b2;\"></path><path d=\"M41,145.45454545454547h18v21.818181818181813h-18Z\" style=\"fill: #54a24b;\"></path><path d=\"M41,167.27272727272728h18v32.72727272727272h-18Z\" style=\"fill: #eeca3b;\"></path><path d=\"M61,16.36363636363638h18v45.45454545454546h-18Z\" style=\"fill: #4c78a8;\"></path><path d=\"M61,61.81818181818184h18v16.36363636363633h-18Z\" style=\"fill: #f58518;\"></path><path d=\"M61,78.18181818181817h18v21.818181818181827h-18Z\" style=\"fill: #e45756;\"></path><path d=\"M61,100h18v45.45454545454547h-18Z\" style=\"fill: #72b7b2;\"></path><path d=\"M61,145.45454545454547h18v23.636363636363626h-18Z\" style=\"fill: #54a24b;\"></path><path d=\"M61,169.0909090909091h18v30.909090909090907h-18Z\" style=\"fill: #eeca3b;\"></path><path d=\"M81,20.000000000000018h18v43.636363636363626h-18Z\" style=\"fill: #4c78a8;\"></path><path d=\"M81,63.63636363636365h18v16.363636363636353h-18Z\" style=\"fill: #f58518;\"></path><path d=\"M81,80h18v25.454545454545467h-18Z\" style=\"fill: #e45756;\"></path><path d=\"M81,105.45454545454547h18v47.27272727272728h-18Z\" style=\"fill: #72b7b2;\"></path><path d=\"M81,152.72727272727275h18v21.818181818181785h-18Z\" style=\"fill: #54a24b;\"></path><path d=\"M81,174.54545454545453h18v25.454545454545467h-18Z\" style=\"fill: #eeca3b;\"></path><path d=\"M101,18.181818181818187h18v43.636363636363654h-18Z\" style=\"fill: #4c78a8;\"></path><path d=\"M101,61.81818181818184h18v16.36363636363633h-18Z\" style=\"fill: #f58518;\"></path><path d=\"M101,78.18181818181817h18v25.454545454545467h-18Z\" style=\"fill: #e45756;\"></path><path d=\"M101,103.63636363636364h18v47.272727272727266h-18Z\" style=\"fill: #72b7b2;\"></path><path d=\"M101,150.9090909090909h18v23.636363636363626h-18Z\" style=\"fill: #54a24b;\"></path><path d=\"M101,174.54545454545453h18v25.454545454545467h-18Z\" style=\"fill: #eeca3b;\"></path><path d=\"M121,18.181818181818187h18v39.99999999999999h-18Z\" style=\"fill: #4c78a8;\"></path><path d=\"M121,58.18181818181818h18v14.545454545454554h-18Z\" style=\"fill: #f58518;\"></path><path d=\"M121,72.72727272727273h18v19.999999999999986h-18Z\" style=\"fill: #e45756;\"></path><path d=\"M121,92.72727272727272h18v49.09090909090909h-18Z\" style=\"fill: #72b7b2;\"></path><path d=\"M121,141.8181818181818h18v27.27272727272728h-18Z\" style=\"fill: #54a24b;\"></path><path d=\"M121,169.0909090909091h18v30.909090909090907h-18Z\" style=\"fill: #eeca3b;\"></path><path d=\"M141,18.181818181818187h18v39.99999999999999h-18Z\" style=\"fill: #4c78a8;\"></path><path d=\"M141,58.18181818181818h18v14.545454545454554h-18Z\" style=\"fill: #f58518;\"></path><path d=\"M141,72.72727272727273h18v21.8181818181818h-18Z\" style=\"fill: #e45756;\"></path><path d=\"M141,94.54545454545453h18v45.45454545454547h-18Z\" style=\"fill: #72b7b2;\"></path><path d=\"M141,140h18v25.454545454545467h-18Z\" style=\"fill: #54a24b;\"></path><path d=\"M141,165.45454545454547h18v34.54545454545453h-18Z\" style=\"fill: #eeca3b;\"></path><path d=\"M161,18.181818181818187h18v36.363636363636374h-18Z\" style=\"fill: #4c78a8;\"></path><path d=\"M161,54.54545454545456h18v18.181818181818187h-18Z\" style=\"fill: #f58518;\"></path><path d=\"M161,72.72727272727275h18v38.18181818181816h-18Z\" style=\"fill: #e45756;\"></path><path d=\"M161,110.9090909090909h18v49.09090909090909h-18Z\" style=\"fill: #72b7b2;\"></path><path d=\"M161,160h18v18.181818181818187h-18Z\" style=\"fill: #54a24b;\"></path><path d=\"M161,178.1818181818182h18v21.818181818181813h-18Z\" style=\"fill: #eeca3b;\"></path><path d=\"M181,16.36363636363638h18v38.18181818181818h-18Z\" style=\"fill: #4c78a8;\"></path><path d=\"M181,54.54545454545456h18v14.545454545454547h-18Z\" style=\"fill: #f58518;\"></path><path d=\"M181,69.09090909090911h18v21.818181818181813h-18Z\" style=\"fill: #e45756;\"></path><path d=\"M181,90.90909090909092h18v45.45454545454545h-18Z\" style=\"fill: #72b7b2;\"></path><path d=\"M181,136.36363636363637h18v25.45454545454544h-18Z\" style=\"fill: #54a24b;\"></path><path d=\"M181,161.8181818181818h18v38.18181818181819h-18Z\" style=\"fill: #eeca3b;\"></path><path d=\"M201,18.181818181818187h18v47.272727272727295h-18Z\" style=\"fill: #4c78a8;\"></path><path d=\"M201,65.45454545454548h18v16.36363636363636h-18Z\" style=\"fill: #f58518;\"></path><path d=\"M201,81.81818181818184h18v21.8181818181818h-18Z\" style=\"fill: #e45756;\"></path><path d=\"M201,103.63636363636364h18v49.09090909090911h-18Z\" style=\"fill: #72b7b2;\"></path><path d=\"M201,152.72727272727275h18v21.818181818181785h-18Z\" style=\"fill: #54a24b;\"></path><path d=\"M201,174.54545454545453h18v25.454545454545467h-18Z\" style=\"fill: #eeca3b;\"></path><path d=\"M221,20.000000000000018h18v41.81818181818183h-18Z\" style=\"fill: #4c78a8;\"></path><path d=\"M221,61.81818181818184h18v12.727272727272691h-18Z\" style=\"fill: #f58518;\"></path><path d=\"M221,74.54545454545453h18v21.818181818181827h-18Z\" style=\"fill: #e45756;\"></path><path d=\"M221,96.36363636363636h18v45.45454545454545h-18Z\" style=\"fill: #72b7b2;\"></path><path d=\"M221,141.8181818181818h18v23.636363636363654h-18Z\" style=\"fill: #54a24b;\"></path><path d=\"M221,165.45454545454547h18v34.54545454545453h-18Z\" style=\"fill: #eeca3b;\"></path><path d=\"M241,18.181818181818187h18v49.09090909090909h-18Z\" style=\"fill: #4c78a8;\"></path><path d=\"M241,67.27272727272728h18v16.36363636363636h-18Z\" style=\"fill: #f58518;\"></path><path d=\"M241,83.63636363636364h18v21.818181818181827h-18Z\" style=\"fill: #e45756;\"></path><path d=\"M241,105.45454545454547h18v43.6363636363636h-18Z\" style=\"fill: #72b7b2;\"></path><path d=\"M241,149.09090909090907h18v21.81818181818184h-18Z\" style=\"fill: #54a24b;\"></path><path d=\"M241,170.9090909090909h18v29.090909090909093h-18Z\" style=\"fill: #eeca3b;\"></path><path d=\"M261,20.000000000000018h18v43.636363636363626h-18Z\" style=\"fill: #4c78a8;\"></path><path d=\"M261,63.63636363636365h18v16.363636363636353h-18Z\" style=\"fill: #f58518;\"></path><path d=\"M261,80h18v21.818181818181813h-18Z\" style=\"fill: #e45756;\"></path><path d=\"M261,101.81818181818181h18v47.27272727272725h-18Z\" style=\"fill: #72b7b2;\"></path><path d=\"M261,149.09090909090907h18v23.636363636363654h-18Z\" style=\"fill: #54a24b;\"></path><path d=\"M261,172.72727272727272h18v27.27272727272728h-18Z\" style=\"fill: #eeca3b;\"></path><path d=\"M281,18.181818181818187h18v45.45454545454546h-18Z\" style=\"fill: #4c78a8;\"></path><path d=\"M281,63.63636363636365h18v16.363636363636353h-18Z\" style=\"fill: #f58518;\"></path><path d=\"M281,80h18v21.818181818181813h-18Z\" style=\"fill: #e45756;\"></path><path d=\"M281,101.81818181818181h18v45.45454545454544h-18Z\" style=\"fill: #72b7b2;\"></path><path d=\"M281,147.27272727272725h18v23.636363636363654h-18Z\" style=\"fill: #54a24b;\"></path><path d=\"M281,170.9090909090909h18v29.090909090909093h-18Z\" style=\"fill: #eeca3b;\"></path><path d=\"M301,18.181818181818187h18v45.45454545454546h-18Z\" style=\"fill: #4c78a8;\"></path><path d=\"M301,63.63636363636365h18v16.363636363636353h-18Z\" style=\"fill: #f58518;\"></path><path d=\"M301,80h18v21.818181818181813h-18Z\" style=\"fill: #e45756;\"></path><path d=\"M301,101.81818181818181h18v43.636363636363654h-18Z\" style=\"fill: #72b7b2;\"></path><path d=\"M301,145.45454545454547h18v23.636363636363626h-18Z\" style=\"fill: #54a24b;\"></path><path d=\"M301,169.0909090909091h18v30.909090909090907h-18Z\" style=\"fill: #eeca3b;\"></path><path d=\"M321,18.181818181818187h18v47.272727272727295h-18Z\" style=\"fill: #4c78a8;\"></path><path d=\"M321,65.45454545454548h18v16.36363636363636h-18Z\" style=\"fill: #f58518;\"></path><path d=\"M321,81.81818181818184h18v21.8181818181818h-18Z\" style=\"fill: #e45756;\"></path><path d=\"M321,103.63636363636364h18v43.63636363636361h-18Z\" style=\"fill: #72b7b2;\"></path><path d=\"M321,147.27272727272725h18v23.636363636363654h-18Z\" style=\"fill: #54a24b;\"></path><path d=\"M321,170.9090909090909h18v29.090909090909093h-18Z\" style=\"fill: #eeca3b;\"></path><path d=\"M341,16.36363636363638h18v43.636363636363626h-18Z\" style=\"fill: #4c78a8;\"></path><path d=\"M341,60.00000000000001h18v16.363636363636367h-18Z\" style=\"fill: #f58518;\"></path><path d=\"M341,76.36363636363637h18v21.8181818181818h-18Z\" style=\"fill: #e45756;\"></path><path d=\"M341,98.18181818181817h18v47.272727272727295h-18Z\" style=\"fill: #72b7b2;\"></path><path d=\"M341,145.45454545454547h18v25.45454545454544h-18Z\" style=\"fill: #54a24b;\"></path><path d=\"M341,170.9090909090909h18v29.090909090909093h-18Z\" style=\"fill: #eeca3b;\"></path><path d=\"M361,20.000000000000018h18v45.45454545454547h-18Z\" style=\"fill: #4c78a8;\"></path><path d=\"M361,65.45454545454548h18v16.36363636363636h-18Z\" style=\"fill: #f58518;\"></path><path d=\"M361,81.81818181818184h18v21.8181818181818h-18Z\" style=\"fill: #e45756;\"></path><path d=\"M361,103.63636363636364h18v45.454545454545425h-18Z\" style=\"fill: #72b7b2;\"></path><path d=\"M361,149.09090909090907h18v23.636363636363654h-18Z\" style=\"fill: #54a24b;\"></path><path d=\"M361,172.72727272727272h18v27.27272727272728h-18Z\" style=\"fill: #eeca3b;\"></path><path d=\"M381,18.181818181818187h18v34.54545454545455h-18Z\" style=\"fill: #4c78a8;\"></path><path d=\"M381,52.727272727272734h18v12.727272727272748h-18Z\" style=\"fill: #f58518;\"></path><path d=\"M381,65.45454545454548h18v19.999999999999986h-18Z\" style=\"fill: #e45756;\"></path><path d=\"M381,85.45454545454547h18v47.27272727272728h-18Z\" style=\"fill: #72b7b2;\"></path><path d=\"M381,132.72727272727275h18v29.090909090909065h-18Z\" style=\"fill: #54a24b;\"></path><path d=\"M381,161.8181818181818h18v38.18181818181819h-18Z\" style=\"fill: #eeca3b;\"></path><path d=\"M401,20.000000000000018h18v41.81818181818183h-18Z\" style=\"fill: #4c78a8;\"></path><path d=\"M401,61.81818181818184h18v14.545454545454533h-18Z\" style=\"fill: #f58518;\"></path><path d=\"M401,76.36363636363637h18v21.8181818181818h-18Z\" style=\"fill: #e45756;\"></path><path d=\"M401,98.18181818181817h18v49.09090909090908h-18Z\" style=\"fill: #72b7b2;\"></path><path d=\"M401,147.27272727272725h18v25.454545454545467h-18Z\" style=\"fill: #54a24b;\"></path><path d=\"M401,172.72727272727272h18v27.27272727272728h-18Z\" style=\"fill: #eeca3b;\"></path><path d=\"M421,18.181818181818187h18v38.18181818181819h-18Z\" style=\"fill: #4c78a8;\"></path><path d=\"M421,56.363636363636374h18v16.36363636363636h-18Z\" style=\"fill: #f58518;\"></path><path d=\"M421,72.72727272727273h18v23.636363636363626h-18Z\" style=\"fill: #e45756;\"></path><path d=\"M421,96.36363636363636h18v47.272727272727266h-18Z\" style=\"fill: #72b7b2;\"></path><path d=\"M421,143.63636363636363h18v25.454545454545467h-18Z\" style=\"fill: #54a24b;\"></path><path d=\"M421,169.0909090909091h18v30.909090909090907h-18Z\" style=\"fill: #eeca3b;\"></path><path d=\"M441,18.181818181818187h18v41.81818181818182h-18Z\" style=\"fill: #4c78a8;\"></path><path d=\"M441,60.00000000000001h18v16.363636363636367h-18Z\" style=\"fill: #f58518;\"></path><path d=\"M441,76.36363636363637h18v21.8181818181818h-18Z\" style=\"fill: #e45756;\"></path><path d=\"M441,98.18181818181817h18v45.45454545454545h-18Z\" style=\"fill: #72b7b2;\"></path><path d=\"M441,143.63636363636363h18v25.454545454545467h-18Z\" style=\"fill: #54a24b;\"></path><path d=\"M441,169.0909090909091h18v30.909090909090907h-18Z\" style=\"fill: #eeca3b;\"></path><path d=\"M461,18.181818181818187h18v43.636363636363654h-18Z\" style=\"fill: #4c78a8;\"></path><path d=\"M461,61.81818181818184h18v14.545454545454533h-18Z\" style=\"fill: #f58518;\"></path><path d=\"M461,76.36363636363637h18v23.636363636363626h-18Z\" style=\"fill: #e45756;\"></path><path d=\"M461,100h18v45.45454545454547h-18Z\" style=\"fill: #72b7b2;\"></path><path d=\"M461,145.45454545454547h18v25.45454545454544h-18Z\" style=\"fill: #54a24b;\"></path><path d=\"M461,170.9090909090909h18v29.090909090909093h-18Z\" style=\"fill: #eeca3b;\"></path><path d=\"M481,18.181818181818187h18v47.272727272727295h-18Z\" style=\"fill: #4c78a8;\"></path><path d=\"M481,65.45454545454548h18v16.36363636363636h-18Z\" style=\"fill: #f58518;\"></path><path d=\"M481,81.81818181818184h18v19.99999999999997h-18Z\" style=\"fill: #e45756;\"></path><path d=\"M481,101.81818181818181h18v45.45454545454544h-18Z\" style=\"fill: #72b7b2;\"></path><path d=\"M481,147.27272727272725h18v23.636363636363654h-18Z\" style=\"fill: #54a24b;\"></path><path d=\"M481,170.9090909090909h18v29.090909090909093h-18Z\" style=\"fill: #eeca3b;\"></path><path d=\"M501,16.36363636363638h18v43.636363636363626h-18Z\" style=\"fill: #4c78a8;\"></path><path d=\"M501,60.00000000000001h18v16.363636363636367h-18Z\" style=\"fill: #f58518;\"></path><path d=\"M501,76.36363636363637h18v21.8181818181818h-18Z\" style=\"fill: #e45756;\"></path><path d=\"M501,98.18181818181817h18v45.45454545454545h-18Z\" style=\"fill: #72b7b2;\"></path><path d=\"M501,143.63636363636363h18v25.454545454545467h-18Z\" style=\"fill: #54a24b;\"></path><path d=\"M501,169.0909090909091h18v30.909090909090907h-18Z\" style=\"fill: #eeca3b;\"></path><path d=\"M521,18.18181818181821h18v41.81818181818182h-18Z\" style=\"fill: #4c78a8;\"></path><path d=\"M521,60.00000000000003h18v14.545454545454533h-18Z\" style=\"fill: #f58518;\"></path><path d=\"M521,74.54545454545456h18v20h-18Z\" style=\"fill: #e45756;\"></path><path d=\"M521,94.54545454545456h18v43.636363636363626h-18Z\" style=\"fill: #72b7b2;\"></path><path d=\"M521,138.1818181818182h18v27.27272727272728h-18Z\" style=\"fill: #54a24b;\"></path><path d=\"M521,165.45454545454547h18v34.54545454545453h-18Z\" style=\"fill: #eeca3b;\"></path><path d=\"M541,16.36363636363638h18v47.272727272727266h-18Z\" style=\"fill: #4c78a8;\"></path><path d=\"M541,63.63636363636365h18v16.363636363636353h-18Z\" style=\"fill: #f58518;\"></path><path d=\"M541,80h18v21.818181818181813h-18Z\" style=\"fill: #e45756;\"></path><path d=\"M541,101.81818181818181h18v45.45454545454544h-18Z\" style=\"fill: #72b7b2;\"></path><path d=\"M541,147.27272727272725h18v23.636363636363654h-18Z\" style=\"fill: #54a24b;\"></path><path d=\"M541,170.9090909090909h18v29.090909090909093h-18Z\" style=\"fill: #eeca3b;\"></path><path d=\"M561,16.36363636363638h18v43.636363636363626h-18Z\" style=\"fill: #4c78a8;\"></path><path d=\"M561,60.00000000000001h18v14.545454545454525h-18Z\" style=\"fill: #f58518;\"></path><path d=\"M561,74.54545454545453h18v23.63636363636364h-18Z\" style=\"fill: #e45756;\"></path><path d=\"M561,98.18181818181817h18v49.09090909090908h-18Z\" style=\"fill: #72b7b2;\"></path><path d=\"M561,147.27272727272725h18v23.636363636363654h-18Z\" style=\"fill: #54a24b;\"></path><path d=\"M561,170.9090909090909h18v29.090909090909093h-18Z\" style=\"fill: #eeca3b;\"></path><path d=\"M581,20.000000000000018h18v36.363636363636374h-18Z\" style=\"fill: #4c78a8;\"></path><path d=\"M581,56.363636363636395h18v14.545454545454525h-18Z\" style=\"fill: #f58518;\"></path><path d=\"M581,70.90909090909092h18v20h-18Z\" style=\"fill: #e45756;\"></path><path d=\"M581,90.90909090909092h18v47.272727272727266h-18Z\" style=\"fill: #72b7b2;\"></path><path d=\"M581,138.1818181818182h18v29.090909090909093h-18Z\" style=\"fill: #54a24b;\"></path><path d=\"M581,167.27272727272728h18v32.72727272727272h-18Z\" style=\"fill: #eeca3b;\"></path><path d=\"M601,20.000000000000018h18v41.81818181818183h-18Z\" style=\"fill: #4c78a8;\"></path><path d=\"M601,61.81818181818184h18v14.545454545454533h-18Z\" style=\"fill: #f58518;\"></path><path d=\"M601,76.36363636363637h18v19.999999999999986h-18Z\" style=\"fill: #e45756;\"></path><path d=\"M601,96.36363636363636h18v49.09090909090911h-18Z\" style=\"fill: #72b7b2;\"></path><path d=\"M601,145.45454545454547h18v25.45454545454544h-18Z\" style=\"fill: #54a24b;\"></path><path d=\"M601,170.9090909090909h18v29.090909090909093h-18Z\" style=\"fill: #eeca3b;\"></path><path d=\"M621,18.181818181818187h18v43.636363636363654h-18Z\" style=\"fill: #4c78a8;\"></path><path d=\"M621,61.81818181818184h18v16.36363636363633h-18Z\" style=\"fill: #f58518;\"></path><path d=\"M621,78.18181818181817h18v21.818181818181827h-18Z\" style=\"fill: #e45756;\"></path><path d=\"M621,100h18v43.636363636363654h-18Z\" style=\"fill: #72b7b2;\"></path><path d=\"M621,143.63636363636365h18v23.636363636363626h-18Z\" style=\"fill: #54a24b;\"></path><path d=\"M621,167.27272727272728h18v32.72727272727272h-18Z\" style=\"fill: #eeca3b;\"></path><path d=\"M641,18.181818181818187h18v39.99999999999999h-18Z\" style=\"fill: #4c78a8;\"></path><path d=\"M641,58.18181818181818h18v16.363636363636353h-18Z\" style=\"fill: #f58518;\"></path><path d=\"M641,74.54545454545453h18v23.63636363636364h-18Z\" style=\"fill: #e45756;\"></path><path d=\"M641,98.18181818181817h18v47.272727272727295h-18Z\" style=\"fill: #72b7b2;\"></path><path d=\"M641,145.45454545454547h18v25.45454545454544h-18Z\" style=\"fill: #54a24b;\"></path><path d=\"M641,170.9090909090909h18v29.090909090909093h-18Z\" style=\"fill: #eeca3b;\"></path><path d=\"M661,20.000000000000018h18v43.636363636363626h-18Z\" style=\"fill: #4c78a8;\"></path><path d=\"M661,63.63636363636365h18v14.545454545454525h-18Z\" style=\"fill: #f58518;\"></path><path d=\"M661,78.18181818181817h18v21.818181818181827h-18Z\" style=\"fill: #e45756;\"></path><path d=\"M661,100h18v47.27272727272725h-18Z\" style=\"fill: #72b7b2;\"></path><path d=\"M661,147.27272727272725h18v23.636363636363654h-18Z\" style=\"fill: #54a24b;\"></path><path d=\"M661,170.9090909090909h18v29.090909090909093h-18Z\" style=\"fill: #eeca3b;\"></path><path d=\"M681,18.181818181818187h18v43.636363636363654h-18Z\" style=\"fill: #4c78a8;\"></path><path d=\"M681,61.81818181818184h18v20h-18Z\" style=\"fill: #f58518;\"></path><path d=\"M681,81.81818181818184h18v25.45454545454544h-18Z\" style=\"fill: #e45756;\"></path><path d=\"M681,107.27272727272728h18v41.818181818181785h-18Z\" style=\"fill: #72b7b2;\"></path><path d=\"M681,149.09090909090907h18v23.636363636363654h-18Z\" style=\"fill: #54a24b;\"></path><path d=\"M681,172.72727272727272h18v27.27272727272728h-18Z\" style=\"fill: #eeca3b;\"></path><path d=\"M701,18.181818181818187h18v41.81818181818182h-18Z\" style=\"fill: #4c78a8;\"></path><path d=\"M701,60.00000000000001h18v16.363636363636367h-18Z\" style=\"fill: #f58518;\"></path><path d=\"M701,76.36363636363637h18v21.8181818181818h-18Z\" style=\"fill: #e45756;\"></path><path d=\"M701,98.18181818181817h18v45.45454545454545h-18Z\" style=\"fill: #72b7b2;\"></path><path d=\"M701,143.63636363636363h18v25.454545454545467h-18Z\" style=\"fill: #54a24b;\"></path><path d=\"M701,169.0909090909091h18v30.909090909090907h-18Z\" style=\"fill: #eeca3b;\"></path><path d=\"M721,16.36363636363638h18v47.272727272727266h-18Z\" style=\"fill: #4c78a8;\"></path><path d=\"M721,63.63636363636365h18v16.363636363636353h-18Z\" style=\"fill: #f58518;\"></path><path d=\"M721,80h18v23.63636363636364h-18Z\" style=\"fill: #e45756;\"></path><path d=\"M721,103.63636363636364h18v43.63636363636361h-18Z\" style=\"fill: #72b7b2;\"></path><path d=\"M721,147.27272727272725h18v23.636363636363654h-18Z\" style=\"fill: #54a24b;\"></path><path d=\"M721,170.9090909090909h18v29.090909090909093h-18Z\" style=\"fill: #eeca3b;\"></path><path d=\"M741,18.181818181818187h18v39.99999999999999h-18Z\" style=\"fill: #4c78a8;\"></path><path d=\"M741,58.18181818181818h18v14.545454545454554h-18Z\" style=\"fill: #f58518;\"></path><path d=\"M741,72.72727272727273h18v23.636363636363626h-18Z\" style=\"fill: #e45756;\"></path><path d=\"M741,96.36363636363636h18v47.272727272727295h-18Z\" style=\"fill: #72b7b2;\"></path><path d=\"M741,143.63636363636365h18v23.636363636363626h-18Z\" style=\"fill: #54a24b;\"></path><path d=\"M741,167.27272727272728h18v32.72727272727272h-18Z\" style=\"fill: #eeca3b;\"></path><path d=\"M761,20.000000000000018h18v39.999999999999986h-18Z\" style=\"fill: #4c78a8;\"></path><path d=\"M761,60.00000000000001h18v14.545454545454525h-18Z\" style=\"fill: #f58518;\"></path><path d=\"M761,74.54545454545453h18v21.818181818181827h-18Z\" style=\"fill: #e45756;\"></path><path d=\"M761,96.36363636363636h18v45.45454545454545h-18Z\" style=\"fill: #72b7b2;\"></path><path d=\"M761,141.8181818181818h18v25.454545454545467h-18Z\" style=\"fill: #54a24b;\"></path><path d=\"M761,167.27272727272728h18v32.72727272727272h-18Z\" style=\"fill: #eeca3b;\"></path><path d=\"M781,16.36363636363638h18v36.363636363636374h-18Z\" style=\"fill: #4c78a8;\"></path><path d=\"M781,52.727272727272755h18v18.181818181818166h-18Z\" style=\"fill: #f58518;\"></path><path d=\"M781,70.90909090909092h18v20h-18Z\" style=\"fill: #e45756;\"></path><path d=\"M781,90.90909090909092h18v47.272727272727266h-18Z\" style=\"fill: #72b7b2;\"></path><path d=\"M781,138.1818181818182h18v23.636363636363626h-18Z\" style=\"fill: #54a24b;\"></path><path d=\"M781,161.8181818181818h18v38.18181818181819h-18Z\" style=\"fill: #eeca3b;\"></path><path d=\"M801,18.181818181818187h18v36.36363636363635h-18Z\" style=\"fill: #4c78a8;\"></path><path d=\"M801,54.54545454545454h18v16.363636363636367h-18Z\" style=\"fill: #f58518;\"></path><path d=\"M801,70.9090909090909h18v23.636363636363626h-18Z\" style=\"fill: #e45756;\"></path><path d=\"M801,94.54545454545453h18v47.27272727272728h-18Z\" style=\"fill: #72b7b2;\"></path><path d=\"M801,141.8181818181818h18v27.27272727272728h-18Z\" style=\"fill: #54a24b;\"></path><path d=\"M801,169.0909090909091h18v30.909090909090907h-18Z\" style=\"fill: #eeca3b;\"></path><path d=\"M821,18.181818181818187h18v41.81818181818182h-18Z\" style=\"fill: #4c78a8;\"></path><path d=\"M821,60.00000000000001h18v16.363636363636367h-18Z\" style=\"fill: #f58518;\"></path><path d=\"M821,76.36363636363637h18v19.999999999999986h-18Z\" style=\"fill: #e45756;\"></path><path d=\"M821,96.36363636363636h18v45.45454545454545h-18Z\" style=\"fill: #72b7b2;\"></path><path d=\"M821,141.8181818181818h18v25.454545454545467h-18Z\" style=\"fill: #54a24b;\"></path><path d=\"M821,167.27272727272728h18v32.72727272727272h-18Z\" style=\"fill: #eeca3b;\"></path><path d=\"M841,18.181818181818187h18v47.272727272727295h-18Z\" style=\"fill: #4c78a8;\"></path><path d=\"M841,65.45454545454548h18v16.36363636363636h-18Z\" style=\"fill: #f58518;\"></path><path d=\"M841,81.81818181818184h18v19.99999999999997h-18Z\" style=\"fill: #e45756;\"></path><path d=\"M841,101.81818181818181h18v43.636363636363654h-18Z\" style=\"fill: #72b7b2;\"></path><path d=\"M841,145.45454545454547h18v25.45454545454544h-18Z\" style=\"fill: #54a24b;\"></path><path d=\"M841,170.9090909090909h18v29.090909090909093h-18Z\" style=\"fill: #eeca3b;\"></path><path d=\"M861,18.181818181818187h18v43.636363636363654h-18Z\" style=\"fill: #4c78a8;\"></path><path d=\"M861,61.81818181818184h18v16.36363636363633h-18Z\" style=\"fill: #f58518;\"></path><path d=\"M861,78.18181818181817h18v21.818181818181827h-18Z\" style=\"fill: #e45756;\"></path><path d=\"M861,100h18v47.27272727272725h-18Z\" style=\"fill: #72b7b2;\"></path><path d=\"M861,147.27272727272725h18v23.636363636363654h-18Z\" style=\"fill: #54a24b;\"></path><path d=\"M861,170.9090909090909h18v29.090909090909093h-18Z\" style=\"fill: #eeca3b;\"></path><path d=\"M881,20.000000000000018h18v49.09090909090909h-18Z\" style=\"fill: #4c78a8;\"></path><path d=\"M881,69.09090909090911h18v16.36363636363636h-18Z\" style=\"fill: #f58518;\"></path><path d=\"M881,85.45454545454547h18v23.636363636363612h-18Z\" style=\"fill: #e45756;\"></path><path d=\"M881,109.09090909090908h18v47.272727272727295h-18Z\" style=\"fill: #72b7b2;\"></path><path d=\"M881,156.36363636363637h18v20h-18Z\" style=\"fill: #54a24b;\"></path><path d=\"M881,176.36363636363637h18v23.636363636363626h-18Z\" style=\"fill: #eeca3b;\"></path><path d=\"M901,18.181818181818187h18v56.363636363636346h-18Z\" style=\"fill: #4c78a8;\"></path><path d=\"M901,74.54545454545453h18v20h-18Z\" style=\"fill: #f58518;\"></path><path d=\"M901,94.54545454545453h18v23.636363636363654h-18Z\" style=\"fill: #e45756;\"></path><path d=\"M901,118.18181818181819h18v43.636363636363626h-18Z\" style=\"fill: #72b7b2;\"></path><path d=\"M901,161.8181818181818h18v18.181818181818187h-18Z\" style=\"fill: #54a24b;\"></path><path d=\"M901,180h18v20h-18Z\" style=\"fill: #eeca3b;\"></path><path d=\"M921,20.000000000000018h18v34.54545454545455h-18Z\" style=\"fill: #4c78a8;\"></path><path d=\"M921,54.54545454545456h18v14.545454545454547h-18Z\" style=\"fill: #f58518;\"></path><path d=\"M921,69.09090909090911h18v20h-18Z\" style=\"fill: #e45756;\"></path><path d=\"M921,89.09090909090911h18v45.45454545454545h-18Z\" style=\"fill: #72b7b2;\"></path><path d=\"M921,134.54545454545456h18v29.090909090909065h-18Z\" style=\"fill: #54a24b;\"></path><path d=\"M921,163.63636363636363h18v36.363636363636374h-18Z\" style=\"fill: #eeca3b;\"></path><path d=\"M941,18.181818181818187h18v43.636363636363654h-18Z\" style=\"fill: #4c78a8;\"></path><path d=\"M941,61.81818181818184h18v16.36363636363633h-18Z\" style=\"fill: #f58518;\"></path><path d=\"M941,78.18181818181817h18v21.818181818181827h-18Z\" style=\"fill: #e45756;\"></path><path d=\"M941,100h18v47.27272727272725h-18Z\" style=\"fill: #72b7b2;\"></path><path d=\"M941,147.27272727272725h18v23.636363636363654h-18Z\" style=\"fill: #54a24b;\"></path><path d=\"M941,170.9090909090909h18v29.090909090909093h-18Z\" style=\"fill: #eeca3b;\"></path><path d=\"M961,18.181818181818187h18v41.81818181818182h-18Z\" style=\"fill: #4c78a8;\"></path><path d=\"M961,60.00000000000001h18v14.545454545454525h-18Z\" style=\"fill: #f58518;\"></path><path d=\"M961,74.54545454545453h18v25.454545454545467h-18Z\" style=\"fill: #e45756;\"></path><path d=\"M961,100h18v47.27272727272725h-18Z\" style=\"fill: #72b7b2;\"></path><path d=\"M961,147.27272727272725h18v23.636363636363654h-18Z\" style=\"fill: #54a24b;\"></path><path d=\"M961,170.9090909090909h18v29.090909090909093h-18Z\" style=\"fill: #eeca3b;\"></path><path d=\"M981,18.18181818181821h18v38.18181818181819h-18Z\" style=\"fill: #4c78a8;\"></path><path d=\"M981,56.363636363636395h18v14.545454545454525h-18Z\" style=\"fill: #f58518;\"></path><path d=\"M981,70.90909090909092h18v20h-18Z\" style=\"fill: #e45756;\"></path><path d=\"M981,90.90909090909092h18v45.45454545454545h-18Z\" style=\"fill: #72b7b2;\"></path><path d=\"M981,136.36363636363637h18v27.272727272727252h-18Z\" style=\"fill: #54a24b;\"></path><path d=\"M981,163.63636363636363h18v36.363636363636374h-18Z\" style=\"fill: #eeca3b;\"></path><path d=\"M1001,18.181818181818187h18v41.81818181818182h-18Z\" style=\"fill: #4c78a8;\"></path><path d=\"M1001,60.00000000000001h18v16.363636363636367h-18Z\" style=\"fill: #f58518;\"></path><path d=\"M1001,76.36363636363637h18v19.999999999999986h-18Z\" style=\"fill: #e45756;\"></path><path d=\"M1001,96.36363636363636h18v47.272727272727266h-18Z\" style=\"fill: #72b7b2;\"></path><path d=\"M1001,143.63636363636363h18v25.454545454545467h-18Z\" style=\"fill: #54a24b;\"></path><path d=\"M1001,169.0909090909091h18v30.909090909090907h-18Z\" style=\"fill: #eeca3b;\"></path><path d=\"M1021,20.000000000000018h18v43.636363636363626h-18Z\" style=\"fill: #4c78a8;\"></path><path d=\"M1021,63.63636363636365h18v14.545454545454525h-18Z\" style=\"fill: #f58518;\"></path><path d=\"M1021,78.18181818181817h18v21.818181818181827h-18Z\" style=\"fill: #e45756;\"></path><path d=\"M1021,100h18v43.636363636363626h-18Z\" style=\"fill: #72b7b2;\"></path><path d=\"M1021,143.63636363636363h18v25.454545454545467h-18Z\" style=\"fill: #54a24b;\"></path><path d=\"M1021,169.0909090909091h18v30.909090909090907h-18Z\" style=\"fill: #eeca3b;\"></path></g><g class=\"mark-rule role-mark layer_1_marks\"><line transform=\"translate(1040,109.09090909090908)\" x2=\"-1040\" y2=\"0\" style=\"fill: none; stroke: red;\"></line></g><g class=\"mark-group role-legend\"><g transform=\"translate(1058,0)\"><path class=\"background\" d=\"M0,0h65v92h-65Z\" style=\"pointer-events: none; fill: none;\"></path><g><g class=\"mark-group role-legend-entry\"><g transform=\"translate(0,16)\"><path class=\"background\" d=\"M0,0h0v0h0Z\" style=\"pointer-events: none; fill: none;\"></path><g><g class=\"mark-group role-scope\"><g transform=\"translate(0,0)\"><path class=\"background\" d=\"M0,0h50v11h-50Z\" style=\"pointer-events: none; fill: none; opacity: 1;\"></path><g><g class=\"mark-symbol role-legend-symbol\" style=\"pointer-events: none;\"><path transform=\"translate(6,6)\" d=\"M-5,-5h10v10h-10Z\" style=\"fill: #4c78a8; stroke-width: 1.5; opacity: 1;\"></path></g><g class=\"mark-text role-legend-label\" style=\"pointer-events: none;\"><text text-anchor=\"start\" transform=\"translate(16,9)\" style=\"font-family: sans-serif; font-size: 10px; fill: #000; opacity: 1;\">0to18</text></g></g><path class=\"foreground\" d=\"\" style=\"pointer-events: none; display: none; fill: none;\"></path></g><g transform=\"translate(0,13)\"><path class=\"background\" d=\"M0,0h50v11h-50Z\" style=\"pointer-events: none; fill: none; opacity: 1;\"></path><g><g class=\"mark-symbol role-legend-symbol\" style=\"pointer-events: none;\"><path transform=\"translate(6,6)\" d=\"M-5,-5h10v10h-10Z\" style=\"fill: #f58518; stroke-width: 1.5; opacity: 1;\"></path></g><g class=\"mark-text role-legend-label\" style=\"pointer-events: none;\"><text text-anchor=\"start\" transform=\"translate(16,9)\" style=\"font-family: sans-serif; font-size: 10px; fill: #000; opacity: 1;\">19to25</text></g></g><path class=\"foreground\" d=\"\" style=\"pointer-events: none; display: none; fill: none;\"></path></g><g transform=\"translate(0,26)\"><path class=\"background\" d=\"M0,0h50v11h-50Z\" style=\"pointer-events: none; fill: none; opacity: 1;\"></path><g><g class=\"mark-symbol role-legend-symbol\" style=\"pointer-events: none;\"><path transform=\"translate(6,6)\" d=\"M-5,-5h10v10h-10Z\" style=\"fill: #e45756; stroke-width: 1.5; opacity: 1;\"></path></g><g class=\"mark-text role-legend-label\" style=\"pointer-events: none;\"><text text-anchor=\"start\" transform=\"translate(16,9)\" style=\"font-family: sans-serif; font-size: 10px; fill: #000; opacity: 1;\">26to34</text></g></g><path class=\"foreground\" d=\"\" style=\"pointer-events: none; display: none; fill: none;\"></path></g><g transform=\"translate(0,39)\"><path class=\"background\" d=\"M0,0h50v11h-50Z\" style=\"pointer-events: none; fill: none; opacity: 1;\"></path><g><g class=\"mark-symbol role-legend-symbol\" style=\"pointer-events: none;\"><path transform=\"translate(6,6)\" d=\"M-5,-5h10v10h-10Z\" style=\"fill: #72b7b2; stroke-width: 1.5; opacity: 1;\"></path></g><g class=\"mark-text role-legend-label\" style=\"pointer-events: none;\"><text text-anchor=\"start\" transform=\"translate(16,9)\" style=\"font-family: sans-serif; font-size: 10px; fill: #000; opacity: 1;\">35to54</text></g></g><path class=\"foreground\" d=\"\" style=\"pointer-events: none; display: none; fill: none;\"></path></g><g transform=\"translate(0,52)\"><path class=\"background\" d=\"M0,0h50v11h-50Z\" style=\"pointer-events: none; fill: none; opacity: 1;\"></path><g><g class=\"mark-symbol role-legend-symbol\" style=\"pointer-events: none;\"><path transform=\"translate(6,6)\" d=\"M-5,-5h10v10h-10Z\" style=\"fill: #54a24b; stroke-width: 1.5; opacity: 1;\"></path></g><g class=\"mark-text role-legend-label\" style=\"pointer-events: none;\"><text text-anchor=\"start\" transform=\"translate(16,9)\" style=\"font-family: sans-serif; font-size: 10px; fill: #000; opacity: 1;\">55to64</text></g></g><path class=\"foreground\" d=\"\" style=\"pointer-events: none; display: none; fill: none;\"></path></g><g transform=\"translate(0,65)\"><path class=\"background\" d=\"M0,0h50v11h-50Z\" style=\"pointer-events: none; fill: none; opacity: 1;\"></path><g><g class=\"mark-symbol role-legend-symbol\" style=\"pointer-events: none;\"><path transform=\"translate(6,6)\" d=\"M-5,-5h10v10h-10Z\" style=\"fill: #eeca3b; stroke-width: 1.5; opacity: 1;\"></path></g><g class=\"mark-text role-legend-label\" style=\"pointer-events: none;\"><text text-anchor=\"start\" transform=\"translate(16,9)\" style=\"font-family: sans-serif; font-size: 10px; fill: #000; opacity: 1;\">65plus</text></g></g><path class=\"foreground\" d=\"\" style=\"pointer-events: none; display: none; fill: none;\"></path></g></g></g><path class=\"foreground\" d=\"\" style=\"pointer-events: none; display: none; fill: none;\"></path></g></g><g class=\"mark-text role-legend-title\" style=\"pointer-events: none;\"><text text-anchor=\"start\" transform=\"translate(0,9)\" style=\"font-family: sans-serif; font-size: 11px; font-weight: bold; fill: #000; opacity: 1;\">age_group</text></g></g><path class=\"foreground\" d=\"\" style=\"pointer-events: none; display: none; fill: none;\"></path></g></g></g><path class=\"foreground\" d=\"\" style=\"display: none; fill: none;\"></path></g></g></g></svg>\n"
      ],
      "text/plain": [
       "@vlplot(\n",
       "    layer=[\n",
       "        {\n",
       "            mark=\"bar\",\n",
       "            encoding={\n",
       "                x={\n",
       "                    field=\"state\"\n",
       "                },\n",
       "                y={\n",
       "                    field=\"fraction\"\n",
       "                },\n",
       "                color={\n",
       "                    field=\"age_group\"\n",
       "                }\n",
       "            }\n",
       "        },\n",
       "        {\n",
       "            mark={\n",
       "                color=\"red\",\n",
       "                type=\"rule\"\n",
       "            },\n",
       "            data={\n",
       "                values=[\n",
       "                    {\n",
       "                        ref=0.5\n",
       "                    }\n",
       "                ]\n",
       "            },\n",
       "            encoding={\n",
       "                y={\n",
       "                    field=\"ref\",\n",
       "                    type=\"quantitative\"\n",
       "                }\n",
       "            }\n",
       "        }\n",
       "    ],\n",
       "    data={\n",
       "        values=...\n",
       "    }\n",
       ")"
      ]
     },
     "execution_count": 9,
     "metadata": {},
     "output_type": "execute_result"
    }
   ],
   "source": [
    "df_single = df_census |> @filter()\n",
    "\n",
    "stack(df_census, 2:7; variable_name=:age_group, value_name=:fraction, view=false) |> \n",
    "@orderby(_.state) |>\n",
    "@vlplot()+\n",
    "@vlplot(\n",
    "    :bar,\n",
    "    x = :state,\n",
    "    y = :fraction,\n",
    "    color = :age_group\n",
    ") + @vlplot(mark={:rule, color=:red}, data = {values = [{ref = 0.5}]}, y=\"ref:q\")"
   ]
  }
 ],
 "metadata": {
  "kernelspec": {
   "display_name": "Julia 1.3.1",
   "language": "julia",
   "name": "julia-1.3"
  },
  "language_info": {
   "file_extension": ".jl",
   "mimetype": "application/julia",
   "name": "julia",
   "version": "1.3.1"
  }
 },
 "nbformat": 4,
 "nbformat_minor": 4
}
